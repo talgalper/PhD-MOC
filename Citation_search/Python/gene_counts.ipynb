{
 "cells": [
  {
   "cell_type": "code",
   "execution_count": null,
   "metadata": {},
   "outputs": [],
   "source": [
    "import requests\n",
    "import pandas as pd\n",
    "import os\n",
    "import matplotlib.pyplot as plt\n",
    "import numpy as np\n",
    "from tqdm import tqdm\n",
    "import nltk\n",
    "from nltk.corpus import words"
   ]
  },
  {
   "cell_type": "code",
   "execution_count": null,
   "metadata": {},
   "outputs": [],
   "source": [
    "# create function to query pubmed\n",
    "def get_citation_count(protein_id):\n",
    "    url = f\"https://eutils.ncbi.nlm.nih.gov/entrez/eutils/esearch.fcgi?db=pubmed&term={protein_id}&retmax=1&usehistory=y\"\n",
    "    response = requests.get(url)\n",
    "    \n",
    "    try:\n",
    "        count = int(response.text.split(\"<Count>\")[1].split(\"</Count>\")[0])\n",
    "        return count\n",
    "    except IndexError:\n",
    "        print(f\"Error: Unable to retrieve citation count for protein {protein_id}\")\n",
    "        print(\"Response:\", response.text)\n",
    "        return None"
   ]
  },
  {
   "cell_type": "code",
   "execution_count": null,
   "metadata": {},
   "outputs": [],
   "source": [
    "# read in target data\n",
    "target_genes = pd.read_csv(\"/Users/talgalper/Documents/GitHub/PhD-MOC/Citation_search/data/PCSF_results.csv\")\n",
    "\n",
    "# replace any terms with 2 or less characters with description\n",
    "target_genes['PubMed_search'] = np.where(\n",
    "    target_genes['external_gene_name'].str.len() > 2,\n",
    "    target_genes['external_gene_name'],\n",
    "    target_genes['description']\n",
    ")\n",
    "\n",
    "# drop NA rows and get list of genes to search\n",
    "target_genes = target_genes.dropna(subset=['external_gene_name'])\n",
    "\n",
    "# if any of the values in the PubMed_search column have a \",\" in the name remove the \",\" and everything that follows\n",
    "target_genes['PubMed_search'] = target_genes['PubMed_search'].str.split(\",\").str[0]"
   ]
  },
  {
   "cell_type": "code",
   "execution_count": null,
   "metadata": {},
   "outputs": [],
   "source": [
    "# select MeSh terms to filter search\n",
    "mesh_terms = [\"Neoplasms\", \"Humans\"]\n",
    "\n",
    "# Combine the MeSH terms into a single search query\n",
    "mesh_terms_with_mh = [term + \"[MH]\" for term in mesh_terms]\n",
    "mesh_query = \" AND \".join(mesh_terms_with_mh)\n",
    "mesh_query = '(' + mesh_query + ')'\n",
    "print(mesh_query)"
   ]
  },
  {
   "cell_type": "code",
   "execution_count": null,
   "metadata": {},
   "outputs": [],
   "source": [
    "# get counts\n",
    "results = pd.DataFrame(columns=['external_gene_name', 'description', 'search_id', 'MeSH_count'])\n",
    "\n",
    "for index, row in tqdm(target_genes.iterrows(), total=len(target_genes)):\n",
    "    gene = row['PubMed_search']\n",
    "    external_name = row['external_gene_name']\n",
    "    description = row['description']\n",
    "    MeSH_query = f'{gene}[TIAB] AND \"{mesh_query}\"'\n",
    "    MeSH_count = get_citation_count(MeSH_query)\n",
    "    results = pd.concat([results, pd.DataFrame({'external_gene_name': [external_name],\n",
    "                                                'description': [description],\n",
    "                                                'search_id': [gene], \n",
    "                                                'MeSH_count': [MeSH_count]})], \n",
    "                      ignore_index=True)"
   ]
  },
  {
   "cell_type": "code",
   "execution_count": null,
   "metadata": {},
   "outputs": [],
   "source": [
    "# number of missing scores\n",
    "print(f\"Number of NaN values: {results['MeSH_count'].isna().sum()}\")"
   ]
  },
  {
   "cell_type": "code",
   "execution_count": null,
   "metadata": {},
   "outputs": [],
   "source": [
    "\n",
    "# Check for missing entries and update score\n",
    "def update_nan_values(df):\n",
    "    for index, row in tqdm(df[df['MeSH_count'].isna()].iterrows(), total=len(df)):\n",
    "        gene = row['search_id']\n",
    "        MeSH_query = f'\"{gene}\"[TIAB] AND {mesh_query}'\n",
    "        new_value = get_citation_count(MeSH_query)\n",
    "        \n",
    "        # Update the DataFrame\n",
    "        df.at[index, 'MeSH_count'] = new_value\n",
    "\n",
    "    print(f\"Number of NaN values after update: {df['MeSH_count'].isna().sum()}\")\n",
    "    return df\n",
    "\n",
    "# Use the function to update NaN values\n",
    "updated_results = update_nan_values(results)\n",
    "updated_results['MeSH_count'] = updated_results['MeSH_count'].astype(int)"
   ]
  },
  {
   "cell_type": "code",
   "execution_count": null,
   "metadata": {},
   "outputs": [],
   "source": []
  },
  {
   "cell_type": "code",
   "execution_count": null,
   "metadata": {},
   "outputs": [],
   "source": []
  },
  {
   "cell_type": "code",
   "execution_count": null,
   "metadata": {},
   "outputs": [],
   "source": [
    "# save checkpoint\n",
    "results_TIAB = updated_results"
   ]
  },
  {
   "cell_type": "code",
   "execution_count": null,
   "metadata": {},
   "outputs": [],
   "source": [
    "    \n",
    "# Function to check if searched gene is an English word\n",
    "english_words = set(words.words())\n",
    "english_words = {word.upper() for word in english_words}\n",
    "\n",
    "def is_english_word(word):\n",
    "    if isinstance(word, str):\n",
    "        return word.upper() in english_words\n",
    "    else:\n",
    "        return False\n",
    "    \n",
    "print(f\"Number of english words in set: {len([gene for gene in results_TIAB['search_id'] if gene.upper() in english_words])}\")\n",
    "for gene in results_TIAB['search_id']:\n",
    "    if is_english_word(gene):\n",
    "        print(f\"Warning: {gene} appears to be an English word\")\n",
    "        \n",
    "\n"
   ]
  },
  {
   "cell_type": "code",
   "execution_count": null,
   "metadata": {},
   "outputs": [],
   "source": [
    "results_TIAB['andGene_count'] = np.nan\n",
    "# First pass: Check for English words and rerun with \"gene\" following gene name\n",
    "for idx, row in tqdm(results_TIAB.iterrows(), total=len(results_TIAB)):\n",
    "    gene = row['search_id']\n",
    "    \n",
    "    # Only process if it's an English word\n",
    "    if is_english_word(gene):\n",
    "        try:\n",
    "            # Construct new query with gene[TIAB]\n",
    "            new_query = f'\"{gene} gene\"[TIAB] AND {mesh_query}'\n",
    "            count = get_citation_count(new_query)\n",
    "            results_TIAB.loc[idx, 'andGene_count'] = count\n",
    "        except Exception as e:\n",
    "            print(f\"Error processing gene {gene}: {str(e)}\")\n",
    "            results_TIAB.loc[idx, 'andGene_count'] = np.nan\n",
    "            \n",
    "results_TIAB['andGene_count'] = results_TIAB['andGene_count'].astype('Int64')"
   ]
  },
  {
   "cell_type": "code",
   "execution_count": null,
   "metadata": {},
   "outputs": [],
   "source": [
    "results_TIAB['description_count'] = np.nan\n",
    "# Second pass: Use descriptions for English words\n",
    "for idx, row in tqdm(results_TIAB.iterrows(), total=len(results_TIAB)):\n",
    "    gene = row['search_id']\n",
    "    \n",
    "    if is_english_word(gene):\n",
    "        try:\n",
    "            description = row['description']\n",
    "            # Construct query with description\n",
    "            desc_query = f'\"{description}\"[TIAB] AND {mesh_query}'\n",
    "            count = get_citation_count(desc_query)\n",
    "            results_TIAB.loc[idx, 'description_count'] = count\n",
    "            \n",
    "        except Exception as e:\n",
    "            print(f\"Error processing description for gene {gene}: {str(e)}\")\n",
    "            results_TIAB.loc[idx, 'description_count'] = np.nan\n",
    "\n",
    "results_TIAB['description_count'] = results_TIAB['description_count'].astype('Int64')"
   ]
  },
  {
   "cell_type": "code",
   "execution_count": null,
   "metadata": {},
   "outputs": [],
   "source": [
    "# read in COSMIC hallmark genes\n",
    "cancer_hallmark = pd.read_csv(\"/Users/talgalper/Documents/GitHub/PhD-MOC/Citation_search/data/Cosmic_CancerGeneCensusHallmarksOfCancer_v101_GRCh38.tsv\", sep=\"\\t\")\n",
    "cancer_hallmark = cancer_hallmark['GENE_SYMBOL'].tolist()\n",
    "cancer_hallmark = list(set(cancer_hallmark))\n",
    "len(cancer_hallmark)"
   ]
  },
  {
   "cell_type": "code",
   "execution_count": null,
   "metadata": {},
   "outputs": [],
   "source": [
    "# Get \"best score\" \n",
    "def get_best_score(row):\n",
    "    # Check if the gene is a cancer hallmark gene\n",
    "    if row['external_gene_name'] in cancer_hallmark:\n",
    "        return row['MeSH_count']\n",
    "    else:\n",
    "        # If both base_count and TIAB_count are NA, use MeSH_count\n",
    "        if pd.isna(row['andGene_count']) and pd.isna(row['description_count']):\n",
    "            return row['MeSH_count']\n",
    "        # Otherwise, return the highest non-NA value between base_count and TIAB_count\n",
    "        return max(\n",
    "            row['andGene_count'] if not pd.isna(row['andGene_count']) else float('-inf'),\n",
    "            row['description_count'] if not pd.isna(row['description_count']) else float('-inf')\n",
    "        )\n",
    "\n",
    "# Add the new column to results_TIAB\n",
    "results_TIAB['best_score'] = results_TIAB.apply(get_best_score, axis=1)"
   ]
  },
  {
   "cell_type": "code",
   "execution_count": null,
   "metadata": {},
   "outputs": [],
   "source": [
    "results_TIAB.to_csv(\"/Users/talgalper/Documents/GitHub/PhD-MOC/Citation_search/results/PCSF_citation_counts[TIAB].csv\", index=False)"
   ]
  },
  {
   "cell_type": "code",
   "execution_count": null,
   "metadata": {},
   "outputs": [],
   "source": []
  },
  {
   "cell_type": "code",
   "execution_count": null,
   "metadata": {},
   "outputs": [],
   "source": []
  }
 ],
 "metadata": {
  "kernelspec": {
   "display_name": "base",
   "language": "python",
   "name": "python3"
  },
  "language_info": {
   "codemirror_mode": {
    "name": "ipython",
    "version": 3
   },
   "file_extension": ".py",
   "mimetype": "text/x-python",
   "name": "python",
   "nbconvert_exporter": "python",
   "pygments_lexer": "ipython3",
   "version": "3.8.8"
  }
 },
 "nbformat": 4,
 "nbformat_minor": 2
}
