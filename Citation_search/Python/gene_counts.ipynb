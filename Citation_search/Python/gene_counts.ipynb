{
 "cells": [
  {
   "cell_type": "code",
   "execution_count": null,
   "metadata": {},
   "outputs": [],
   "source": [
    "import requests\n",
    "import pandas as pd\n",
    "import os\n",
    "import matplotlib.pyplot as plt\n",
    "import numpy as np\n",
    "from tqdm import tqdm"
   ]
  },
  {
   "cell_type": "code",
   "execution_count": null,
   "metadata": {},
   "outputs": [],
   "source": [
    "# create function to query pubmed\n",
    "def get_citation_count(protein_id):\n",
    "    url = f\"https://eutils.ncbi.nlm.nih.gov/entrez/eutils/esearch.fcgi?db=pubmed&term={protein_id}&retmax=1&usehistory=y\"\n",
    "    response = requests.get(url)\n",
    "    \n",
    "    try:\n",
    "        count = int(response.text.split(\"<Count>\")[1].split(\"</Count>\")[0])\n",
    "        return count\n",
    "    except IndexError:\n",
    "        print(f\"Error: Unable to retrieve citation count for protein {protein_id}\")\n",
    "        print(\"Response:\", response.text)\n",
    "        return None"
   ]
  },
  {
   "cell_type": "code",
   "execution_count": null,
   "metadata": {},
   "outputs": [],
   "source": [
    "# read in target data\n",
    "target_genes = pd.read_csv(\"/Users/talgalper/Documents/GitHub/PhD-MOC/Citation_search/data/PCSF_results.csv\")\n",
    "\n",
    "# replace any terms with 2 or less characters with description\n",
    "target_genes['PubMed_search'] = np.where(\n",
    "    target_genes['external_gene_name'].str.len() > 2,\n",
    "    target_genes['external_gene_name'],\n",
    "    target_genes['description']\n",
    ")\n",
    "\n",
    "# drop NA rows and get list of genes to search\n",
    "target_genes = target_genes.dropna(subset=['external_gene_name'])\n",
    "target_genes = target_genes['PubMed_search'].tolist()\n",
    "target_genes = list(set(target_genes))\n",
    "len(target_genes)"
   ]
  },
  {
   "cell_type": "code",
   "execution_count": null,
   "metadata": {},
   "outputs": [],
   "source": [
    "# select MeSh terms to filter search\n",
    "mesh_terms = [\"Neoplasms\", \"Humans\"]\n",
    "\n",
    "# Combine the MeSH terms into a single search query\n",
    "mesh_terms_with_mh = [term + \"[MH]\" for term in mesh_terms]\n",
    "mesh_query = \" AND \".join(mesh_terms_with_mh)\n",
    "mesh_query = '(' + mesh_query + ')'\n",
    "print(mesh_query)"
   ]
  },
  {
   "cell_type": "code",
   "execution_count": null,
   "metadata": {},
   "outputs": [],
   "source": [
    "# get counts\n",
    "results = pd.DataFrame(columns=['gene_id', 'MeSH_count'])\n",
    "\n",
    "for gene in tqdm(target_genes):\n",
    "    MeSH_query = f'{mesh_query} AND \"{gene}\"'\n",
    "    MeSH_count = get_citation_count(MeSH_query)\n",
    "    results = pd.concat([results, pd.DataFrame({'gene_id': [gene], \n",
    "                                                'MeSH_count': [MeSH_count]})], \n",
    "                        ignore_index=True)\n"
   ]
  },
  {
   "cell_type": "code",
   "execution_count": null,
   "metadata": {},
   "outputs": [],
   "source": [
    "print(f\"Number of NaN values: {results['MeSH_count'].isna().sum()}\")"
   ]
  },
  {
   "cell_type": "code",
   "execution_count": null,
   "metadata": {},
   "outputs": [],
   "source": [
    "def update_nan_values(df):\n",
    "    for index, row in df[df['MeSH_count'].isna()].iterrows():\n",
    "        gene = row['gene_id']\n",
    "        MeSH_query = f'{mesh_query} AND \"{gene}\"'\n",
    "        new_value = get_citation_count(MeSH_query)\n",
    "        \n",
    "        # Update the DataFrame\n",
    "        df.at[index, 'MeSH_count'] = new_value\n",
    "\n",
    "    print(f\"Number of NaN values after update: {df['MeSH_count'].isna().sum()}\")\n",
    "    return df\n",
    "\n",
    "# Use the function to update NaN values\n",
    "updated_results = update_nan_values(results)"
   ]
  },
  {
   "cell_type": "code",
   "execution_count": null,
   "metadata": {},
   "outputs": [],
   "source": [
    "updated_results.to_csv(\"/Users/talgalper/Documents/GitHub/PhD-MOC/Citation_search/results/PCSF_citation_counts.csv\", index=False)"
   ]
  },
  {
   "cell_type": "code",
   "execution_count": null,
   "metadata": {},
   "outputs": [],
   "source": []
  },
  {
   "cell_type": "code",
   "execution_count": null,
   "metadata": {},
   "outputs": [],
   "source": []
  }
 ],
 "metadata": {
  "kernelspec": {
   "display_name": "base",
   "language": "python",
   "name": "python3"
  },
  "language_info": {
   "codemirror_mode": {
    "name": "ipython",
    "version": 3
   },
   "file_extension": ".py",
   "mimetype": "text/x-python",
   "name": "python",
   "nbconvert_exporter": "python",
   "pygments_lexer": "ipython3",
   "version": "3.8.8"
  }
 },
 "nbformat": 4,
 "nbformat_minor": 2
}
