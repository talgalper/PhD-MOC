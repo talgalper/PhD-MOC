{
 "cells": [
  {
   "cell_type": "code",
   "execution_count": 10,
   "metadata": {},
   "outputs": [],
   "source": [
    "import requests\n",
    "import xml.etree.ElementTree as ET\n",
    "import time\n",
    "from tqdm import tqdm"
   ]
  },
  {
   "cell_type": "code",
   "execution_count": 13,
   "metadata": {},
   "outputs": [],
   "source": [
    "def get_pubmed_ids(query, batch_size=9999, delay=0.34, api_key=None):\n",
    "    \"\"\"\n",
    "    Retrieve all PubMed IDs for a given query in batches, with progress tracking.\n",
    "\n",
    "    Args:\n",
    "        query (str): The search query.\n",
    "        batch_size (int): Number of IDs to retrieve per batch (max 100,000).\n",
    "        delay (float): Delay between requests in seconds to respect rate limits.\n",
    "        api_key (str, optional): NCBI API key for increased rate limits.\n",
    "\n",
    "    Returns:\n",
    "        list: A list of PubMed IDs.\n",
    "    \"\"\"\n",
    "    base_url = \"https://eutils.ncbi.nlm.nih.gov/entrez/eutils/esearch.fcgi\"\n",
    "    \n",
    "    # Step 1: Initial request to get the total count and history info\n",
    "    initial_params = {\n",
    "        \"db\": \"pubmed\",\n",
    "        \"term\": query,\n",
    "        \"retmax\": 0,           # We don't need actual IDs yet\n",
    "        \"usehistory\": \"y\",     # Use history to manage large results\n",
    "        \"retmode\": \"xml\"\n",
    "    }\n",
    "    \n",
    "    if api_key:\n",
    "        initial_params[\"api_key\"] = api_key\n",
    "    \n",
    "    print(\"Sending initial request to determine total number of records...\")\n",
    "    response = requests.get(base_url, params=initial_params)\n",
    "    if response.status_code != 200:\n",
    "        raise Exception(f\"Initial request failed with status code {response.status_code}\")\n",
    "    \n",
    "    root = ET.fromstring(response.text)\n",
    "    total = int(root.findtext(\".//Count\"))\n",
    "    webenv = root.findtext(\".//WebEnv\")\n",
    "    query_key = root.findtext(\".//QueryKey\")\n",
    "    \n",
    "    print(f\"Total records found: {total}\")\n",
    "    \n",
    "    all_ids = []\n",
    "    \n",
    "    # Calculate the number of batches needed\n",
    "    num_batches = (total // batch_size) + (1 if total % batch_size != 0 else 0)\n",
    "    print(f\"Retrieving IDs in {num_batches} batches of up to {batch_size} IDs each.\")\n",
    "    \n",
    "    # Initialize tqdm progress bar\n",
    "    with tqdm(total=num_batches, desc=\"Processing Batches\", unit=\"batch\") as pbar:\n",
    "        for batch_num in range(num_batches):\n",
    "            retstart = batch_num * batch_size\n",
    "            current_batch_size = min(batch_size, total - retstart)\n",
    "            \n",
    "            params = {\n",
    "                \"db\": \"pubmed\",\n",
    "                \"query_key\": query_key,\n",
    "                \"WebEnv\": webenv,\n",
    "                \"retstart\": retstart,\n",
    "                \"retmax\": current_batch_size,\n",
    "                \"usehistory\": \"y\",\n",
    "                \"retmode\": \"xml\"\n",
    "            }\n",
    "            \n",
    "            if api_key:\n",
    "                params[\"api_key\"] = api_key\n",
    "            \n",
    "            # Debug: Print batch info\n",
    "            # print(f\"Fetching batch {batch_num + 1}/{num_batches} (retstart={retstart}, retmax={current_batch_size})...\")\n",
    "            \n",
    "            try:\n",
    "                response = requests.get(base_url, params=params)\n",
    "                response.raise_for_status()\n",
    "            except requests.exceptions.RequestException as e:\n",
    "                print(f\"Request failed for batch {batch_num + 1}: {e}. Retrying after delay...\")\n",
    "                time.sleep(delay)\n",
    "                try:\n",
    "                    response = requests.get(base_url, params=params)\n",
    "                    response.raise_for_status()\n",
    "                except requests.exceptions.RequestException as e:\n",
    "                    raise Exception(f\"Failed to retrieve batch {batch_num + 1} after retry: {e}\")\n",
    "            \n",
    "            root = ET.fromstring(response.text)\n",
    "            ids = [id_elem.text for id_elem in root.findall(\".//IdList/Id\")]\n",
    "            all_ids.extend(ids)\n",
    "            \n",
    "            # Update the progress bar\n",
    "            pbar.update(1)\n",
    "            \n",
    "            # Optional: Print retrieval info (can be commented out if not needed)\n",
    "            # print(f\"Retrieved {len(ids)} IDs from batch {batch_num + 1}. Total IDs collected: {len(all_ids)}\")\n",
    "            \n",
    "            # Respect NCBI rate limits\n",
    "            time.sleep(delay)\n",
    "    \n",
    "    print(f\"All IDs retrieved. Total PubMed IDs collected: {len(all_ids)}\")\n",
    "    return all_ids"
   ]
  },
  {
   "cell_type": "code",
   "execution_count": null,
   "metadata": {},
   "outputs": [
    {
     "name": "stdout",
     "output_type": "stream",
     "text": [
      "Sending initial request to determine total number of records...\n",
      "Total records found: 3731171\n",
      "Retrieving IDs in 38 batches of up to 100000 IDs each.\n"
     ]
    },
    {
     "name": "stderr",
     "output_type": "stream",
     "text": [
      "Processing Batches: 100%|██████████| 38/38 [00:53<00:00,  1.40s/batch]"
     ]
    },
    {
     "name": "stdout",
     "output_type": "stream",
     "text": [
      "All IDs retrieved. Total PubMed IDs collected: 9999\n"
     ]
    },
    {
     "name": "stderr",
     "output_type": "stream",
     "text": [
      "\n"
     ]
    }
   ],
   "source": [
    "\n",
    "# Usage\n",
    "if __name__ == \"__main__\":\n",
    "    query = '(Neoplasms[MH] AND Humans[MH])'\n",
    "    pubmed_ids = get_pubmed_ids(query=query, batch_size=9999, delay=0.34)\n"
   ]
  },
  {
   "cell_type": "code",
   "execution_count": null,
   "metadata": {},
   "outputs": [],
   "source": [
    "    \n",
    "    # Optionally, save IDs to a file\n",
    "    with open(\"pubmed_ids.txt\", \"w\") as f:\n",
    "        for pid in pubmed_ids:\n",
    "            f.write(f\"{pid}\\n\")\n",
    "    \n",
    "    print(\"PubMed IDs have been saved to pubmed_ids.txt\")\n"
   ]
  }
 ],
 "metadata": {
  "kernelspec": {
   "display_name": "Python 3",
   "language": "python",
   "name": "python3"
  },
  "language_info": {
   "codemirror_mode": {
    "name": "ipython",
    "version": 3
   },
   "file_extension": ".py",
   "mimetype": "text/x-python",
   "name": "python",
   "nbconvert_exporter": "python",
   "pygments_lexer": "ipython3",
   "version": "3.12.3"
  }
 },
 "nbformat": 4,
 "nbformat_minor": 2
}
