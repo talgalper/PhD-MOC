{
 "cells": [
  {
   "cell_type": "code",
   "execution_count": null,
   "metadata": {},
   "outputs": [],
   "source": [
    "import requests\n",
    "from tqdm import tqdm\n",
    "import time\n",
    "import xml.etree.ElementTree as ET"
   ]
  },
  {
   "cell_type": "code",
   "execution_count": null,
   "metadata": {},
   "outputs": [],
   "source": [
    "def get_total_count(query):\n",
    "    \"\"\"\n",
    "    Retrieves the total number of PubMed IDs for a given query.\n",
    "    \"\"\"\n",
    "    base_url = \"https://eutils.ncbi.nlm.nih.gov/entrez/eutils/esearch.fcgi\"\n",
    "    params = {\n",
    "        \"db\": \"pubmed\",\n",
    "        \"term\": query,\n",
    "        \"retmax\": 0,\n",
    "        \"usehistory\": \"y\",\n",
    "        \"retmode\": \"xml\"\n",
    "    }\n",
    "\n",
    "    response = requests.get(base_url, params=params)\n",
    "    if response.status_code != 200:\n",
    "        raise Exception(f\"Error fetching total count: {response.status_code}\")\n",
    "\n",
    "    root = ET.fromstring(response.text)\n",
    "    count_text = root.findtext(\".//Count\")\n",
    "    if count_text is None:\n",
    "        raise Exception(\"Error: <Count> tag not found in the response.\")\n",
    "    \n",
    "    try:\n",
    "        count = int(count_text)\n",
    "    except ValueError:\n",
    "        raise Exception(f\"Error: Unable to convert count '{count_text}' to integer.\")\n",
    "    \n",
    "    return count"
   ]
  },
  {
   "cell_type": "code",
   "execution_count": null,
   "metadata": {},
   "outputs": [],
   "source": [
    "def fetch_pubmed_ids(query, batch_size=9999):\n",
    "    \"\"\"\n",
    "    Fetches all PubMed IDs for a given query in batches.\n",
    "    \"\"\"\n",
    "    total_count = get_total_count(query)\n",
    "    print(f\"Total PubMed IDs found: {total_count}\")\n",
    "\n",
    "    pubmed_ids = []\n",
    "    base_url = \"https://eutils.ncbi.nlm.nih.gov/entrez/eutils/esearch.fcgi\"\n",
    "\n",
    "    # Calculate the number of batches needed\n",
    "    num_batches = (total_count // batch_size) + (1 if total_count % batch_size != 0 else 0)\n",
    "\n",
    "    for batch in tqdm(range(num_batches), desc=\"Fetching PubMed IDs\"):\n",
    "        retstart = batch * batch_size\n",
    "        params = {\n",
    "            \"db\": \"pubmed\",\n",
    "            \"term\": query,\n",
    "            \"retstart\": retstart,\n",
    "            \"retmax\": batch_size,\n",
    "            \"usehistory\": \"y\",\n",
    "            \"retmode\": \"xml\"\n",
    "        }\n",
    "\n",
    "        success = False\n",
    "        retries = 3\n",
    "        while not success and retries > 0:\n",
    "            try:\n",
    "                response = requests.get(base_url, params=params)\n",
    "                if response.status_code == 200:\n",
    "                    root = ET.fromstring(response.text)\n",
    "                    ids = [id_elem.text for id_elem in root.findall(\".//IdList/Id\")]\n",
    "                    pubmed_ids.extend(ids)\n",
    "                    success = True\n",
    "                else:\n",
    "                    print(f\"Error {response.status_code} fetching batch starting at {retstart}. Retrying...\")\n",
    "                    retries -= 1\n",
    "                    time.sleep(2)\n",
    "            except Exception as e:\n",
    "                print(f\"Exception occurred: {e}. Retrying...\")\n",
    "                retries -= 1\n",
    "                time.sleep(2)\n",
    "\n",
    "        if not success:\n",
    "            print(f\"Failed to fetch batch starting at {retstart}. Exiting.\")\n",
    "            break\n",
    "\n",
    "        # Respect NCBI's rate limits\n",
    "        time.sleep(0.34)  # Approximately 3 requests per second\n",
    "\n",
    "    return pubmed_ids"
   ]
  },
  {
   "cell_type": "code",
   "execution_count": null,
   "metadata": {},
   "outputs": [],
   "source": [
    "def main():\n",
    "    query = '(Neoplasms[MH] AND Humans[MH])'\n",
    "    batch_size = 9999\n",
    "\n",
    "    pubmed_ids = fetch_pubmed_ids(query, batch_size)\n",
    "\n",
    "    print(f\"Total PubMed IDs retrieved: {len(pubmed_ids)}\")\n",
    "\n",
    "if __name__ == \"__main__\":\n",
    "    main()"
   ]
  },
  {
   "cell_type": "code",
   "execution_count": null,
   "metadata": {},
   "outputs": [],
   "source": [
    "# save the IDs to a file\n",
    "with open(\"pubmed_ids.txt\", \"w\") as f:\n",
    "    for pmid in pubmed_ids:\n",
    "        f.write(f\"{pmid}\\n\")\n",
    "print(\"PubMed IDs have been saved to pubmed_ids.txt\")"
   ]
  },
  {
   "cell_type": "code",
   "execution_count": null,
   "metadata": {},
   "outputs": [],
   "source": []
  },
  {
   "cell_type": "code",
   "execution_count": null,
   "metadata": {},
   "outputs": [],
   "source": []
  }
 ],
 "metadata": {
  "kernelspec": {
   "display_name": "Python 3",
   "language": "python",
   "name": "python3"
  },
  "language_info": {
   "codemirror_mode": {
    "name": "ipython",
    "version": 3
   },
   "file_extension": ".py",
   "mimetype": "text/x-python",
   "name": "python",
   "nbconvert_exporter": "python",
   "pygments_lexer": "ipython3",
   "version": "3.12.3"
  }
 },
 "nbformat": 4,
 "nbformat_minor": 2
}
