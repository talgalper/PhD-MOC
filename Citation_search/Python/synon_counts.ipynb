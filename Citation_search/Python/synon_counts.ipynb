{
 "cells": [
  {
   "cell_type": "code",
   "execution_count": null,
   "metadata": {},
   "outputs": [],
   "source": [
    "import requests\n",
    "import pandas as pd\n",
    "import os\n",
    "import matplotlib.pyplot as plt\n",
    "import numpy as np\n",
    "from tqdm import tqdm"
   ]
  },
  {
   "cell_type": "code",
   "execution_count": null,
   "metadata": {},
   "outputs": [],
   "source": [
    "# create function to query pubmed\n",
    "def get_citation_count(protein_id):\n",
    "    url = f\"https://eutils.ncbi.nlm.nih.gov/entrez/eutils/esearch.fcgi?db=pubmed&term={protein_id}&retmax=1&usehistory=y\"\n",
    "    response = requests.get(url)\n",
    "    \n",
    "    try:\n",
    "        count = int(response.text.split(\"<Count>\")[1].split(\"</Count>\")[0])\n",
    "        return count\n",
    "    except IndexError:\n",
    "        print(f\"Error: Unable to retrieve citation count for protein {protein_id}\")\n",
    "        print(\"Response:\", response.text)\n",
    "        return None"
   ]
  },
  {
   "cell_type": "code",
   "execution_count": null,
   "metadata": {},
   "outputs": [],
   "source": [
    "# read in synonym data\n",
    "gene_syno = pd.read_csv(\"/Users/talgalper/Documents/GitHub/PhD-MOC/Citation_search/data/human_syno.csv\")\n",
    "gene_syno[gene_syno.isnull().any(axis=1)]\n",
    "gene_syno = gene_syno.dropna()"
   ]
  },
  {
   "cell_type": "code",
   "execution_count": null,
   "metadata": {},
   "outputs": [],
   "source": [
    "def collect_synonyms(group):\n",
    "    synonyms = group['synonym'].dropna().astype(str).tolist()\n",
    "    ref_term = group.name  # group.name is the ref_term\n",
    "    # Include ref_term in the synonyms, avoiding duplicates\n",
    "    if ref_term not in synonyms:\n",
    "        synonyms.insert(0, ref_term)\n",
    "    # Enclose each synonym in double quotes\n",
    "    synonyms = ['\"' + syn + '\"' for syn in synonyms]\n",
    "    # Join with ' OR ' and wrap in parentheses\n",
    "    return '(' + ' OR '.join(synonyms) + ')'\n",
    "\n",
    "df_grouped = gene_syno.groupby('ref_term').apply(collect_synonyms).reset_index(name='search_string')\n"
   ]
  },
  {
   "cell_type": "code",
   "execution_count": null,
   "metadata": {},
   "outputs": [],
   "source": [
    "# read in target data\n",
    "target_genes = pd.read_csv(\"/Users/talgalper/Documents/GitHub/PhD-MOC/Citation_search/data/df_subnetNeighs.csv\")\n",
    "target_genes = target_genes.dropna(subset=['external_gene_name'])\n",
    "target_genes = target_genes['external_gene_name'].tolist()\n",
    "target_genes = list(set(target_genes))\n",
    "len(target_genes)"
   ]
  },
  {
   "cell_type": "code",
   "execution_count": null,
   "metadata": {},
   "outputs": [],
   "source": [
    "# match target genes to ref_term & synonym (if not in ref term)\n",
    "merged_ref = pd.DataFrame({'gene': target_genes})\n",
    "merged_ref = merged_ref.merge(\n",
    "    gene_syno[['ref_term']],\n",
    "    left_on='gene',\n",
    "    right_on='ref_term',\n",
    "    how='left'\n",
    ")\n",
    "\n",
    "unmatched_ref = merged_ref[merged_ref['ref_term'].isnull()]['gene']\n",
    "\n",
    "merged_syn = unmatched_ref.to_frame(name='gene').merge(\n",
    "    gene_syno[['ref_term', 'synonym']],\n",
    "    left_on='gene',\n",
    "    right_on='synonym',\n",
    "    how='left'\n",
    ")\n",
    "\n",
    "combined= pd.concat([\n",
    "    merged_ref[['gene', 'ref_term']],\n",
    "    merged_syn[['gene', 'ref_term']]\n",
    "])"
   ]
  },
  {
   "cell_type": "code",
   "execution_count": null,
   "metadata": {},
   "outputs": [],
   "source": [
    "# subset target genes from synonyms\n",
    "target_geneSyno = df_grouped[df_grouped['ref_term'].isin(combined['ref_term'])]"
   ]
  },
  {
   "cell_type": "code",
   "execution_count": null,
   "metadata": {},
   "outputs": [],
   "source": [
    "# select MeSh terms to filter search\n",
    "mesh_terms = [\"Neoplasms\", \"Humans\"]\n",
    "\n",
    "# Combine the MeSH terms into a single search query\n",
    "mesh_terms_with_mh = [term + \"[MH]\" for term in mesh_terms]\n",
    "mesh_query = \" AND \".join(mesh_terms_with_mh)\n",
    "mesh_query = '(' + mesh_query + ')'\n",
    "print(mesh_query)"
   ]
  },
  {
   "cell_type": "code",
   "execution_count": null,
   "metadata": {},
   "outputs": [],
   "source": [
    "results_list = []\n",
    "\n",
    "# Loop over the rows of target_geneSyno\n",
    "for index, row in tqdm(target_geneSyno.iterrows(), total=target_geneSyno.shape[0]):\n",
    "    gene_id = row['ref_term']\n",
    "    search_string = row['search_string']\n",
    "    MeSH_query = f\"{mesh_query} AND {search_string}\"\n",
    "    MeSH_count = get_citation_count(MeSH_query)\n",
    "    results_list.append({\n",
    "        'gene_id': gene_id,\n",
    "        'search_string': search_string,\n",
    "        'MeSH_count': MeSH_count\n",
    "    })"
   ]
  },
  {
   "cell_type": "code",
   "execution_count": null,
   "metadata": {},
   "outputs": [],
   "source": [
    "# Convert the list of dictionaries to a DataFrame\n",
    "results = pd.DataFrame(results_list)\n",
    "print(f\"Number of NaN values: {results['MeSH_count'].isna().sum()}\")"
   ]
  },
  {
   "cell_type": "code",
   "execution_count": null,
   "metadata": {},
   "outputs": [],
   "source": [
    "def update_nan_values(df, mesh_query):\n",
    "    nan_mask = df['MeSH_count'].isna()\n",
    "    # Loop over rows with NaN in 'MeSH_count'\n",
    "    for index, row in df[nan_mask].iterrows():\n",
    "        gene_id = row['gene_id']\n",
    "        search_string = row['search_string']\n",
    "        MeSH_query = f\"{mesh_query} AND {search_string}\"\n",
    "        new_value = get_citation_count(MeSH_query)\n",
    "        df.at[index, 'MeSH_count'] = new_value\n",
    "\n",
    "    print(f\"Number of NaN values after update: {df['MeSH_count'].isna().sum()}\")\n",
    "    return df\n",
    "\n",
    "# Use the function to update NaN values\n",
    "\n",
    "updated_results = update_nan_values(results, mesh_query)\n"
   ]
  },
  {
   "cell_type": "code",
   "execution_count": null,
   "metadata": {},
   "outputs": [],
   "source": [
    "updated_results.to_csv(\"/Users/talgalper/Documents/GitHub/PhD-MOC/Citation_search/results/HHnetNeighs_citation_counts.csv\")"
   ]
  },
  {
   "cell_type": "code",
   "execution_count": null,
   "metadata": {},
   "outputs": [],
   "source": []
  },
  {
   "cell_type": "code",
   "execution_count": null,
   "metadata": {},
   "outputs": [],
   "source": []
  },
  {
   "cell_type": "code",
   "execution_count": null,
   "metadata": {},
   "outputs": [],
   "source": []
  }
 ],
 "metadata": {
  "kernelspec": {
   "display_name": "base",
   "language": "python",
   "name": "python3"
  },
  "language_info": {
   "codemirror_mode": {
    "name": "ipython",
    "version": 3
   },
   "file_extension": ".py",
   "mimetype": "text/x-python",
   "name": "python",
   "nbconvert_exporter": "python",
   "pygments_lexer": "ipython3",
   "version": "3.8.8"
  }
 },
 "nbformat": 4,
 "nbformat_minor": 2
}
