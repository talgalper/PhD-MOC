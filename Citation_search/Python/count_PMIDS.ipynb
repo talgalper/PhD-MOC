{
 "cells": [
  {
   "cell_type": "code",
   "execution_count": null,
   "metadata": {},
   "outputs": [],
   "source": [
    "import multiprocessing as mp\n",
    "from tqdm import tqdm\n",
    "import sys"
   ]
  },
  {
   "cell_type": "code",
   "execution_count": 11,
   "metadata": {},
   "outputs": [],
   "source": [
    "INPUT_FILE =  \"/home/ubuntu/Desktop/pubtator3/gene2pubtator3\"\n",
    "OUTPUT_FILE = \"results/gene_counts_noFilt.txt\" \n",
    "CHUNK_SIZE = 1000000 \n",
    "processes = 8  \n"
   ]
  },
  {
   "cell_type": "code",
   "execution_count": 17,
   "metadata": {},
   "outputs": [],
   "source": [
    "def process_chunk(lines):\n",
    "    \"\"\"\n",
    "    Process a chunk of lines:\n",
    "    Each line: PMIDs in col 1 (index 0), gene in col 3 (index 2)\n",
    "    Returns a dictionary: gene -> set of PMIDs\n",
    "    \"\"\"\n",
    "    gene_to_pmids = {}\n",
    "    for line in lines:\n",
    "        cols = line.strip().split('\\t')\n",
    "        if len(cols) < 3:\n",
    "            continue\n",
    "        pmid = cols[0]\n",
    "        gene = cols[2]\n",
    "        if gene not in gene_to_pmids:\n",
    "            gene_to_pmids[gene] = set()\n",
    "        gene_to_pmids[gene].add(pmid)\n",
    "    return gene_to_pmids\n",
    "\n",
    "def merge_dicts(dict_list):\n",
    "    \"\"\"\n",
    "    Merge a list of gene->set_of_pmids dictionaries into one.\n",
    "    \"\"\"\n",
    "    merged = {}\n",
    "    for d in dict_list:\n",
    "        for gene, pmids in d.items():\n",
    "            if gene not in merged:\n",
    "                merged[gene] = pmids\n",
    "            else:\n",
    "                merged[gene].update(pmids)\n",
    "    return merged\n",
    "\n",
    "def main():\n",
    "    print(\"Counting total lines in the file...\", file=sys.stderr)\n",
    "    with open(INPUT_FILE, 'r') as f:\n",
    "        total_lines = sum(1 for _ in f)\n",
    "    print(f\"Total lines: {total_lines}\", file=sys.stderr)\n",
    "    \n",
    "    # Prepare parallel pool\n",
    "    pool = mp.Pool(processes=processes)\n",
    "    \n",
    "    # Generator to read file in chunks\n",
    "    def chunk_reader(file_path, chunk_size):\n",
    "        with open(file_path, 'r') as f:\n",
    "            chunk = []\n",
    "            for i, line in enumerate(f):\n",
    "                chunk.append(line)\n",
    "                if (i+1) % chunk_size == 0:\n",
    "                    yield chunk\n",
    "                    chunk = []\n",
    "            if chunk:  # last partial chunk\n",
    "                yield chunk\n",
    "\n",
    "    partial_results = []\n",
    "    \n",
    "    with tqdm(total=(total_lines // CHUNK_SIZE) + 1, desc=\"Processing Chunks\") as pbar:\n",
    "        for partial_dict in pool.imap(process_chunk, chunk_reader(INPUT_FILE, CHUNK_SIZE), chunksize=1):\n",
    "            partial_results.append(partial_dict)\n",
    "            pbar.update(1)\n",
    "    \n",
    "    pool.close()\n",
    "    pool.join()\n",
    "\n",
    "    # Merge all partial dictionaries\n",
    "    print(\"Merging partial results...\", file=sys.stderr)\n",
    "    final_dict = merge_dicts(partial_results)\n",
    "\n",
    "    # Convert sets to counts\n",
    "    print(\"Converting sets to counts...\", file=sys.stderr)\n",
    "    gene_to_count = {gene: len(pmids) for gene, pmids in final_dict.items()}\n",
    "\n",
    "    # Write results to file\n",
    "    output_file = OUTPUT_FILE\n",
    "    print(f\"Writing final results to {output_file}...\", file=sys.stderr)\n",
    "    with open(output_file, 'w') as out:\n",
    "        out.write(\"entrezgene_id\\tcount\\n\")\n",
    "        for gene, count in gene_to_count.items():\n",
    "            out.write(f\"{gene}\\t{count}\\n\")\n",
    "\n",
    "    total_genes = len(gene_to_count)\n",
    "    print(f\"Done. Total genes counted: {total_genes}\", file=sys.stderr)"
   ]
  },
  {
   "cell_type": "code",
   "execution_count": 18,
   "metadata": {},
   "outputs": [
    {
     "name": "stderr",
     "output_type": "stream",
     "text": [
      "Counting total lines in the file...\n",
      "Total lines: 70567596\n",
      "Processing Chunks: 100%|██████████| 71/71 [01:44<00:00,  1.47s/it]\n",
      "Merging partial results...\n",
      "Converting sets to counts...\n",
      "Writing final results to results/gene_counts_noFilt.txt...\n",
      "Done. Total genes counted: 6733356\n"
     ]
    }
   ],
   "source": [
    "if __name__ == \"__main__\":\n",
    "    main()"
   ]
  },
  {
   "cell_type": "code",
   "execution_count": null,
   "metadata": {},
   "outputs": [],
   "source": []
  }
 ],
 "metadata": {
  "kernelspec": {
   "display_name": "base",
   "language": "python",
   "name": "python3"
  },
  "language_info": {
   "codemirror_mode": {
    "name": "ipython",
    "version": 3
   },
   "file_extension": ".py",
   "mimetype": "text/x-python",
   "name": "python",
   "nbconvert_exporter": "python",
   "pygments_lexer": "ipython3",
   "version": "3.12.1"
  }
 },
 "nbformat": 4,
 "nbformat_minor": 2
}
