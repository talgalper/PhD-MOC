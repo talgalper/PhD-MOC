{
 "cells": [
  {
   "cell_type": "code",
   "execution_count": 1,
   "id": "efe1e999-4867-45f6-9189-b6faac1a7bcd",
   "metadata": {},
   "outputs": [
    {
     "name": "stderr",
     "output_type": "stream",
     "text": [
      "2023-11-01 02:36:37.763198: I tensorflow/core/platform/cpu_feature_guard.cc:182] This TensorFlow binary is optimized to use available CPU instructions in performance-critical operations.\n",
      "To enable the following instructions: SSE4.1 SSE4.2 AVX AVX2 AVX512F FMA, in other operations, rebuild TensorFlow with the appropriate compiler flags.\n"
     ]
    }
   ],
   "source": [
    "import tensorflow as tf\n",
    "from models import MQAModel\n",
    "\n",
    "from validate_performance_on_xtals import process_strucs, predict_on_xtals\n",
    "import sys, os\n",
    "import mdtraj as md\n",
    "from glob import glob\n",
    "import numpy as np"
   ]
  },
  {
   "cell_type": "code",
   "execution_count": null,
   "id": "e7a7c7d6-1071-4cc4-b4b0-f662131f687f",
   "metadata": {},
   "outputs": [],
   "source": []
  },
  {
   "cell_type": "markdown",
   "id": "daf4e9fd-30b7-40c8-90b6-97cfa558862d",
   "metadata": {},
   "source": [
    "### Get prediction labels"
   ]
  },
  {
   "cell_type": "code",
   "execution_count": 2,
   "id": "ef0d1fc9-1c7c-48fc-9475-db14eb54024a",
   "metadata": {},
   "outputs": [],
   "source": [
    "def make_predictions(strucs, model, nn_path):\n",
    "    '''\n",
    "    strucs : list of single frame MDTraj trajectories\n",
    "    model : MQAModel corresponding to network in nn_path\n",
    "    nn_path : path to checkpoint files\n",
    "    '''\n",
    "    X, S, mask = process_strucs(strucs)\n",
    "    predictions = predict_on_xtals(model, nn_path, X, S, mask)\n",
    "    return predictions"
   ]
  },
  {
   "cell_type": "code",
   "execution_count": 3,
   "id": "d0c7fe0b-0817-4b21-a260-4f8a402bccbb",
   "metadata": {},
   "outputs": [],
   "source": [
    "pdb_file_path = '../data/ACE2.pdb'\n",
    "model_path = '../models/pocketminer.index'\n",
    "output_path = '../outputs'"
   ]
  },
  {
   "cell_type": "markdown",
   "id": "6e2660b4-8f48-4612-8634-fc644b2cdd25",
   "metadata": {},
   "source": [
    "##### Load the input PDB file and check for exceptions in the format"
   ]
  },
  {
   "cell_type": "code",
   "execution_count": 4,
   "id": "dcd97aa0-1e36-46ab-872f-cef252555678",
   "metadata": {},
   "outputs": [],
   "source": [
    "strucs = [md.load(pdb_file_path)]\n",
    "\n",
    "#### Look for exceptions\n",
    "# check if PDB file is malformed, return error\n",
    "# check how many chains.... if more than 1 chain, also send message: only 1 chain supported\n",
    "# info from non-protein ligands is not incorporated"
   ]
  },
  {
   "cell_type": "markdown",
   "id": "b34bf88b-3208-4b17-a025-2d79edc6d59e",
   "metadata": {},
   "source": [
    "##### Load model and get predictions"
   ]
  },
  {
   "cell_type": "code",
   "execution_count": 5,
   "id": "9313402b-dd7e-449f-8f42-5ecfd48b56b8",
   "metadata": {
    "tags": []
   },
   "outputs": [
    {
     "name": "stdout",
     "output_type": "stream",
     "text": [
      "WARNING:tensorflow:From /home/ubuntu/anaconda3/envs/pocketminer/lib/python3.11/site-packages/tensorflow/python/checkpoint/checkpoint.py:1436: NameBasedSaverStatus.__init__ (from tensorflow.python.checkpoint.checkpoint) is deprecated and will be removed in a future version.\n",
      "Instructions for updating:\n",
      "Restoring a name-based tf.train.Saver checkpoint using the object-based restore API. This mode uses global names to match variables, and so is somewhat fragile. It also adds new restore ops to the graph each time it is called when graph building. Prefer re-encoding training checkpoints in the object-based format: run save() on the object-based saver (the same one this message is coming from) and use that checkpoint in the future.\n",
      "CHECKPOINT RESTORED FROM ../models/pocketminer.index\n"
     ]
    }
   ],
   "source": [
    "# create a MQA model\n",
    "DROPOUT_RATE = 0.1\n",
    "NUM_LAYERS = 4\n",
    "HIDDEN_DIM = 100\n",
    "\n",
    "# MQA Model used for selected NN network\n",
    "model = MQAModel(node_features=(8, 50), edge_features=(1, 32), hidden_dim=(16, HIDDEN_DIM),\n",
    "                     num_layers=NUM_LAYERS, dropout=DROPOUT_RATE)\n",
    "\n",
    "predictions = make_predictions(strucs, model, model_path)\n",
    "\n",
    "np.savetxt(os.path.join(output_path,'predictions.txt'), predictions, fmt='%.4g', delimiter='\\n')\n"
   ]
  },
  {
   "cell_type": "code",
   "execution_count": 6,
   "id": "65aeb9af-a655-4873-bcd8-488989f0deaf",
   "metadata": {},
   "outputs": [
    {
     "data": {
      "text/plain": [
       "TensorShape([1, 596])"
      ]
     },
     "execution_count": 6,
     "metadata": {},
     "output_type": "execute_result"
    }
   ],
   "source": [
    "predictions.shape"
   ]
  },
  {
   "cell_type": "markdown",
   "id": "d924709f-8c7f-41b8-bcf9-2a606cff1801",
   "metadata": {
    "tags": []
   },
   "source": [
    "### Generate output PDB file"
   ]
  },
  {
   "cell_type": "code",
   "execution_count": null,
   "id": "353edfbd-bd2f-4c65-a58b-29f72919342e",
   "metadata": {},
   "outputs": [],
   "source": [
    "from Bio.PDB import PDBParser, PDBIO\n",
    "import warnings\n",
    "\n",
    "#warnings.filterwarnings(\"ignore\")\n",
    "\n",
    "residue_types = {\"ALA\" : \"A\" , \"ARG\" : \"R\" , \"ASN\" : \"N\" , \"ASP\" : \"D\" , \"CYS\" : \"C\" , \"CYM\" : \"C\", \"GLU\" : \"E\" , \n",
    "          \"GLN\" : \"Q\" , \"GLY\" : \"G\" , \"HIS\" : \"H\" , \"ILE\" : \"I\" , \"LEU\" : \"L\" , \"LYS\" : \"K\" , \"MET\" : \"M\" , \n",
    "          \"PHE\" : \"F\" , \"PRO\" : \"P\" , \"SER\" : \"S\" , \"THR\" : \"T\" , \"TRP\" : \"W\" , \"TYR\" : \"Y\" , \"VAL\" : \"V\"}"
   ]
  },
  {
   "cell_type": "code",
   "execution_count": null,
   "id": "886182c6-846e-4ea6-83ee-7bfb6943a6b3",
   "metadata": {},
   "outputs": [],
   "source": [
    "p = PDBParser()\n",
    "structure = p.get_structure(\"ACE2\", pdb_file_path)\n",
    "\n",
    "# get only the first chain as that's the one where we have predictions\n",
    "for chain in structure.get_chains():\n",
    "    break\n",
    "\n",
    "predictions = predictions.numpy()\n",
    "num_res = 0\n",
    "for res in chain.get_residues():\n",
    "    if res.get_resname() in residue_types:\n",
    "        for atom in res.get_atoms():\n",
    "            atom.set_bfactor(predictions[0,num_res])\n",
    "            #print(atom.get_bfactor())\n",
    "        num_res = num_res+1\n",
    "    \n",
    "io = PDBIO()\n",
    "io.set_structure(structure)\n",
    "io.save(os.path.join(output_path,\"out.pdb\"))   #, preserve_atom_numbering = True"
   ]
  },
  {
   "cell_type": "code",
   "execution_count": null,
   "id": "7bf0bb79-d8f3-4727-b811-46583869365f",
   "metadata": {},
   "outputs": [],
   "source": [
    "print(predictions)"
   ]
  },
  {
   "cell_type": "code",
   "execution_count": null,
   "id": "b3d45253-e6f0-4b2b-9268-21fb38a3f4b0",
   "metadata": {},
   "outputs": [],
   "source": []
  }
 ],
 "metadata": {
  "kernelspec": {
   "display_name": "pocketminer",
   "language": "python",
   "name": "python3"
  },
  "language_info": {
   "codemirror_mode": {
    "name": "ipython",
    "version": 3
   },
   "file_extension": ".py",
   "mimetype": "text/x-python",
   "name": "python",
   "nbconvert_exporter": "python",
   "pygments_lexer": "ipython3",
   "version": "3.11.6"
  }
 },
 "nbformat": 4,
 "nbformat_minor": 5
}
