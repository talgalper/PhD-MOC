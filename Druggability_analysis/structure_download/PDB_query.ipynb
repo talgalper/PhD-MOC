{
 "cells": [
  {
   "cell_type": "code",
   "execution_count": 5,
   "metadata": {},
   "outputs": [],
   "source": [
    "import os\n",
    "from Bio import ExPASy\n",
    "from Bio import SwissProt\n",
    "from Bio.PDB import PDBList, PDBParser\n",
    "import requests\n",
    "import pandas as pd"
   ]
  },
  {
   "cell_type": "code",
   "execution_count": 2,
   "metadata": {},
   "outputs": [],
   "source": [
    "\n",
    "# Function to fetch the PDB ID with the best resolution for a given UniProt ID\n",
    "def get_best_pdb_id(uniprot_id):\n",
    "    url = f\"https://www.ebi.ac.uk/pdbe/api/mappings/best_structures/{uniprot_id}\"\n",
    "    response = requests.get(url)\n",
    "    if response.status_code == 200:\n",
    "        data = response.json()\n",
    "        if uniprot_id in data:\n",
    "            best_structure = sorted(data[uniprot_id], key=lambda x: x['resolution'])[0]\n",
    "            return best_structure['pdb_id'], best_structure['resolution']\n",
    "    return None, None"
   ]
  },
  {
   "cell_type": "code",
   "execution_count": 8,
   "metadata": {},
   "outputs": [],
   "source": [
    "AF_structs = pd.read_csv(\"/Users/talgalper/Documents/GitHub/PhD-MOC/Druggability_analysis/Fpocket/results_2024.05/fpocket_druggability.csv\")\n",
    "AF_low_conf_structs = pd.read_csv(\"/Users/talgalper/Documents/GitHub/PhD-MOC/Druggability_analysis/Fpocket/results_2024.05/af_low_conf_struct.csv\")\n",
    "\n",
    "# combine AF_structs and AF_low_conf_structs into a vector of uniprot_ids\n",
    "uniprot_ids = pd.concat([AF_structs[\"uniprot_id\"], AF_low_conf_structs[\"uniprot_id\"]])"
   ]
  },
  {
   "cell_type": "code",
   "execution_count": 4,
   "metadata": {},
   "outputs": [],
   "source": [
    "\n",
    "# Main function to process a list of UniProt IDs\n",
    "def download_structures(uniprot_ids, output_dir):\n",
    "    if not os.path.exists(output_dir):\n",
    "        os.makedirs(output_dir)\n",
    "    \n",
    "    for uniprot_id in uniprot_ids:\n",
    "        pdb_id, resolution = get_best_pdb_id(uniprot_id)\n",
    "        if pdb_id:\n",
    "            print(f\"Downloading PDB {pdb_id} for UniProt ID {uniprot_id} (Resolution: {resolution} Å)\")\n",
    "            download_pdb(pdb_id, output_dir)\n",
    "        else:\n",
    "            print(f\"No structure found for UniProt ID {uniprot_id}\")\n",
    "\n",
    "if __name__ == \"__main__\":\n",
    "    # Example list of UniProt IDs\n",
    "    output_dir = \"/Users/talgalper/OneDrive - RMIT University/PhD/structures/PDB_query/\"\n",
    "    \n",
    "    download_structures(uniprot_ids, output_dir)\n"
   ]
  },
  {
   "cell_type": "code",
   "execution_count": null,
   "metadata": {},
   "outputs": [],
   "source": []
  }
 ],
 "metadata": {
  "kernelspec": {
   "display_name": "base",
   "language": "python",
   "name": "python3"
  },
  "language_info": {
   "codemirror_mode": {
    "name": "ipython",
    "version": 3
   },
   "file_extension": ".py",
   "mimetype": "text/x-python",
   "name": "python",
   "nbconvert_exporter": "python",
   "pygments_lexer": "ipython3",
   "version": "3.8.8"
  }
 },
 "nbformat": 4,
 "nbformat_minor": 2
}
