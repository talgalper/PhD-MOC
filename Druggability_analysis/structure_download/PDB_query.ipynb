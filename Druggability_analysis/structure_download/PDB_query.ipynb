{
 "cells": [
  {
   "cell_type": "code",
   "execution_count": null,
   "metadata": {},
   "outputs": [],
   "source": [
    "import os\n",
    "from Bio import ExPASy\n",
    "from Bio import SwissProt\n",
    "from Bio.PDB import PDBList, PDBParser\n",
    "import requests\n",
    "import pandas as pd\n",
    "from tqdm import tqdm"
   ]
  },
  {
   "cell_type": "code",
   "execution_count": null,
   "metadata": {},
   "outputs": [],
   "source": [
    "\n",
    "# Function to fetch the PDB ID with the best resolution for a given UniProt ID\n",
    "def get_best_pdb_id(uniprot_id):\n",
    "    url = f\"https://www.ebi.ac.uk/pdbe/api/mappings/best_structures/{uniprot_id}\"\n",
    "    response = requests.get(url)\n",
    "    if response.status_code == 200:\n",
    "        data = response.json()\n",
    "        if uniprot_id in data:\n",
    "            best_structure = sorted(data[uniprot_id], key=lambda x: x['resolution'])[0]\n",
    "            return best_structure['pdb_id'], best_structure['resolution']\n",
    "    return None, None"
   ]
  },
  {
   "cell_type": "code",
   "execution_count": null,
   "metadata": {},
   "outputs": [],
   "source": [
    "# Function to download a PDB file given a PDB ID\n",
    "def download_pdb(pdb_id, output_dir):\n",
    "    pdbl = PDBList()\n",
    "    pdbl.retrieve_pdb_file(pdb_id, pdir=output_dir, file_format=\"pdb\")"
   ]
  },
  {
   "cell_type": "code",
   "execution_count": null,
   "metadata": {},
   "outputs": [],
   "source": [
    "# for MAC\n",
    "AF_structs = pd.read_csv(\"/Users/talgalper/Documents/GitHub/PhD-MOC/Druggability_analysis/Fpocket/results_2024.05/fpocket_druggability.csv\")\n",
    "AF_low_conf_structs = pd.read_csv(\"/Users/talgalper/Documents/GitHub/PhD-MOC/Druggability_analysis/Fpocket/results_2024.05/af_low_conf_struct.csv\")\n",
    "\n",
    "# combine AF_structs and AF_low_conf_structs into a vector of uniprot_ids\n",
    "uniprot_ids = pd.concat([AF_structs[\"uniprot_id\"], AF_low_conf_structs[\"uniprot_id\"]])\n",
    "# get distinct uniprot_ids\n",
    "uniprot_ids = uniprot_ids.drop_duplicates()\n",
    "# create subset of first 10 IDs\n",
    "uniprot_ids = uniprot_ids.head(10)\n"
   ]
  },
  {
   "cell_type": "code",
   "execution_count": 7,
   "metadata": {},
   "outputs": [],
   "source": [
    "# for Ubuntu\n",
    "AF_structs = pd.read_csv(\"/home/ubuntu/Documents/GitHub/PhD-MOC/Druggability_analysis/Fpocket/results_2024.05/fpocket_druggability.csv\")\n",
    "AF_low_conf_structs = pd.read_csv(\"/home/ubuntu/Documents/GitHub/PhD-MOC/Druggability_analysis/Fpocket/results_2024.05/af_low_conf_struct.csv\")\n",
    "\n",
    "# combine AF_structs and AF_low_conf_structs into a vector of uniprot_ids\n",
    "uniprot_ids = pd.concat([AF_structs[\"uniprot_id\"], AF_low_conf_structs[\"uniprot_id\"]])\n",
    "# get distinct uniprot_ids\n",
    "uniprot_ids = uniprot_ids.drop_duplicates()\n",
    "# create subset of first 10 IDs to test\n",
    "#uniprot_ids = uniprot_ids.head(10)"
   ]
  },
  {
   "cell_type": "code",
   "execution_count": 8,
   "metadata": {},
   "outputs": [
    {
     "name": "stderr",
     "output_type": "stream",
     "text": [
      "Downloading structures:   0%|          | 1/20462 [00:01<9:02:18,  1.59s/it]"
     ]
    },
    {
     "name": "stdout",
     "output_type": "stream",
     "text": [
      "No structure found for UniProt ID A6NDP7\n"
     ]
    },
    {
     "name": "stderr",
     "output_type": "stream",
     "text": [
      "Downloading structures:   0%|          | 2/20462 [00:02<7:47:17,  1.37s/it]"
     ]
    },
    {
     "name": "stdout",
     "output_type": "stream",
     "text": [
      "No structure found for UniProt ID E9PKD4\n"
     ]
    },
    {
     "name": "stderr",
     "output_type": "stream",
     "text": [
      "Downloading structures:   0%|          | 3/20462 [00:04<7:25:26,  1.31s/it]"
     ]
    },
    {
     "name": "stdout",
     "output_type": "stream",
     "text": [
      "No structure found for UniProt ID M0QZD8\n"
     ]
    },
    {
     "name": "stderr",
     "output_type": "stream",
     "text": [
      "Downloading structures:   0%|          | 4/20462 [00:05<7:14:13,  1.27s/it]"
     ]
    },
    {
     "name": "stdout",
     "output_type": "stream",
     "text": [
      "No structure found for UniProt ID O00116\n"
     ]
    },
    {
     "name": "stderr",
     "output_type": "stream",
     "text": [
      "Downloading structures:   0%|          | 5/20462 [00:06<7:07:48,  1.25s/it]"
     ]
    },
    {
     "name": "stdout",
     "output_type": "stream",
     "text": [
      "No structure found for UniProt ID O14609\n",
      "Downloading PDB 1sz7 for UniProt ID O43617 (Resolution: 1.55 Å)\n",
      "Downloading PDB structure '1sz7'...\n"
     ]
    },
    {
     "name": "stderr",
     "output_type": "stream",
     "text": [
      "Downloading structures:   0%|          | 7/20462 [00:10<9:10:43,  1.62s/it] "
     ]
    },
    {
     "name": "stdout",
     "output_type": "stream",
     "text": [
      "No structure found for UniProt ID O95490\n"
     ]
    },
    {
     "name": "stderr",
     "output_type": "stream",
     "text": [
      "Downloading structures:   0%|          | 8/20462 [00:11<8:30:01,  1.50s/it]"
     ]
    },
    {
     "name": "stdout",
     "output_type": "stream",
     "text": [
      "No structure found for UniProt ID O95992\n",
      "Downloading PDB 5z62 for UniProt ID P00395 (Resolution: 3.6 Å)\n",
      "Downloading PDB structure '5z62'...\n"
     ]
    },
    {
     "name": "stderr",
     "output_type": "stream",
     "text": [
      "Downloading structures:   0%|          | 9/20462 [00:14<10:20:49,  1.82s/it]"
     ]
    },
    {
     "name": "stdout",
     "output_type": "stream",
     "text": [
      "Downloading PDB 2obd for UniProt ID P11597 (Resolution: 2.1 Å)\n",
      "Downloading PDB structure '2obd'...\n"
     ]
    },
    {
     "name": "stderr",
     "output_type": "stream",
     "text": [
      "Downloading structures:   0%|          | 10/20462 [00:16<10:58:42,  1.93s/it]"
     ]
    },
    {
     "name": "stdout",
     "output_type": "stream",
     "text": [
      "Downloading PDB 4md4 for UniProt ID P16112 (Resolution: 1.95 Å)\n",
      "Downloading PDB structure '4md4'...\n"
     ]
    },
    {
     "name": "stderr",
     "output_type": "stream",
     "text": [
      "Downloading structures:   0%|          | 11/20462 [00:18<11:50:36,  2.08s/it]"
     ]
    },
    {
     "name": "stdout",
     "output_type": "stream",
     "text": [
      "Downloading PDB 5lgd for UniProt ID P16671 (Resolution: 2.07 Å)\n",
      "Downloading PDB structure '5lgd'...\n"
     ]
    },
    {
     "name": "stderr",
     "output_type": "stream",
     "text": [
      "Downloading structures:   0%|          | 12/20462 [00:21<12:31:51,  2.21s/it]"
     ]
    },
    {
     "name": "stdout",
     "output_type": "stream",
     "text": [
      "Downloading PDB 4dvq for UniProt ID P19099 (Resolution: 2.49 Å)\n",
      "Downloading PDB structure '4dvq'...\n"
     ]
    },
    {
     "name": "stderr",
     "output_type": "stream",
     "text": [
      "Downloading structures:   0%|          | 13/20462 [00:24<13:40:19,  2.41s/it]"
     ]
    },
    {
     "name": "stdout",
     "output_type": "stream",
     "text": [
      "Downloading PDB 2z5y for UniProt ID P21397 (Resolution: 2.17 Å)\n",
      "Downloading PDB structure '2z5y'...\n"
     ]
    },
    {
     "name": "stderr",
     "output_type": "stream",
     "text": [
      "Downloading structures:   0%|          | 15/20462 [00:27<11:22:09,  2.00s/it]"
     ]
    },
    {
     "name": "stdout",
     "output_type": "stream",
     "text": [
      "No structure found for UniProt ID P25391\n",
      "Downloading PDB 1g3m for UniProt ID P49888 (Resolution: 1.7 Å)\n",
      "Downloading PDB structure '1g3m'...\n"
     ]
    },
    {
     "name": "stderr",
     "output_type": "stream",
     "text": [
      "Downloading structures:   0%|          | 17/20462 [00:31<10:16:26,  1.81s/it]"
     ]
    },
    {
     "name": "stdout",
     "output_type": "stream",
     "text": [
      "No structure found for UniProt ID P51790\n"
     ]
    },
    {
     "name": "stderr",
     "output_type": "stream",
     "text": [
      "Downloading structures:   0%|          | 18/20462 [00:32<9:17:20,  1.64s/it] "
     ]
    },
    {
     "name": "stdout",
     "output_type": "stream",
     "text": [
      "No structure found for UniProt ID P58550\n"
     ]
    },
    {
     "name": "stderr",
     "output_type": "stream",
     "text": [
      "Downloading structures:   0%|          | 18/20462 [00:33<10:34:42,  1.86s/it]\n"
     ]
    },
    {
     "ename": "TypeError",
     "evalue": "'<' not supported between instances of 'NoneType' and 'float'",
     "output_type": "error",
     "traceback": [
      "\u001b[0;31m---------------------------------------------------------------------------\u001b[0m",
      "\u001b[0;31mTypeError\u001b[0m                                 Traceback (most recent call last)",
      "Cell \u001b[0;32mIn[8], line 19\u001b[0m\n\u001b[1;32m     14\u001b[0m \u001b[38;5;28;01mif\u001b[39;00m \u001b[38;5;18m__name__\u001b[39m \u001b[38;5;241m==\u001b[39m \u001b[38;5;124m\"\u001b[39m\u001b[38;5;124m__main__\u001b[39m\u001b[38;5;124m\"\u001b[39m:\n\u001b[1;32m     15\u001b[0m     \u001b[38;5;66;03m# Example list of UniProt IDs\u001b[39;00m\n\u001b[1;32m     16\u001b[0m     \u001b[38;5;66;03m#output_dir = \"/Users/talgalper/OneDrive - RMIT University/PhD/structures/PDB_query/\" # MAC\u001b[39;00m\n\u001b[1;32m     17\u001b[0m     output_dir \u001b[38;5;241m=\u001b[39m \u001b[38;5;124m\"\u001b[39m\u001b[38;5;124m/home/ubuntu/Desktop/PDB_structures/\u001b[39m\u001b[38;5;124m\"\u001b[39m \u001b[38;5;66;03m# Ubuntu\u001b[39;00m\n\u001b[0;32m---> 19\u001b[0m     \u001b[43mdownload_structures\u001b[49m\u001b[43m(\u001b[49m\u001b[43muniprot_ids\u001b[49m\u001b[43m,\u001b[49m\u001b[43m \u001b[49m\u001b[43moutput_dir\u001b[49m\u001b[43m)\u001b[49m\n",
      "Cell \u001b[0;32mIn[8], line 7\u001b[0m, in \u001b[0;36mdownload_structures\u001b[0;34m(uniprot_ids, output_dir)\u001b[0m\n\u001b[1;32m      4\u001b[0m     os\u001b[38;5;241m.\u001b[39mmakedirs(output_dir)\n\u001b[1;32m      6\u001b[0m \u001b[38;5;28;01mfor\u001b[39;00m uniprot_id \u001b[38;5;129;01min\u001b[39;00m tqdm(uniprot_ids, desc\u001b[38;5;241m=\u001b[39m\u001b[38;5;124m\"\u001b[39m\u001b[38;5;124mDownloading structures\u001b[39m\u001b[38;5;124m\"\u001b[39m):\n\u001b[0;32m----> 7\u001b[0m     pdb_id, resolution \u001b[38;5;241m=\u001b[39m \u001b[43mget_best_pdb_id\u001b[49m\u001b[43m(\u001b[49m\u001b[43muniprot_id\u001b[49m\u001b[43m)\u001b[49m\n\u001b[1;32m      8\u001b[0m     \u001b[38;5;28;01mif\u001b[39;00m pdb_id:\n\u001b[1;32m      9\u001b[0m         \u001b[38;5;28mprint\u001b[39m(\u001b[38;5;124mf\u001b[39m\u001b[38;5;124m\"\u001b[39m\u001b[38;5;124mDownloading PDB \u001b[39m\u001b[38;5;132;01m{\u001b[39;00mpdb_id\u001b[38;5;132;01m}\u001b[39;00m\u001b[38;5;124m for UniProt ID \u001b[39m\u001b[38;5;132;01m{\u001b[39;00muniprot_id\u001b[38;5;132;01m}\u001b[39;00m\u001b[38;5;124m (Resolution: \u001b[39m\u001b[38;5;132;01m{\u001b[39;00mresolution\u001b[38;5;132;01m}\u001b[39;00m\u001b[38;5;124m Å)\u001b[39m\u001b[38;5;124m\"\u001b[39m)\n",
      "Cell \u001b[0;32mIn[2], line 8\u001b[0m, in \u001b[0;36mget_best_pdb_id\u001b[0;34m(uniprot_id)\u001b[0m\n\u001b[1;32m      6\u001b[0m     data \u001b[38;5;241m=\u001b[39m response\u001b[38;5;241m.\u001b[39mjson()\n\u001b[1;32m      7\u001b[0m     \u001b[38;5;28;01mif\u001b[39;00m uniprot_id \u001b[38;5;129;01min\u001b[39;00m data:\n\u001b[0;32m----> 8\u001b[0m         best_structure \u001b[38;5;241m=\u001b[39m \u001b[38;5;28;43msorted\u001b[39;49m\u001b[43m(\u001b[49m\u001b[43mdata\u001b[49m\u001b[43m[\u001b[49m\u001b[43muniprot_id\u001b[49m\u001b[43m]\u001b[49m\u001b[43m,\u001b[49m\u001b[43m \u001b[49m\u001b[43mkey\u001b[49m\u001b[38;5;241;43m=\u001b[39;49m\u001b[38;5;28;43;01mlambda\u001b[39;49;00m\u001b[43m \u001b[49m\u001b[43mx\u001b[49m\u001b[43m:\u001b[49m\u001b[43m \u001b[49m\u001b[43mx\u001b[49m\u001b[43m[\u001b[49m\u001b[38;5;124;43m'\u001b[39;49m\u001b[38;5;124;43mresolution\u001b[39;49m\u001b[38;5;124;43m'\u001b[39;49m\u001b[43m]\u001b[49m\u001b[43m)\u001b[49m[\u001b[38;5;241m0\u001b[39m]\n\u001b[1;32m      9\u001b[0m         \u001b[38;5;28;01mreturn\u001b[39;00m best_structure[\u001b[38;5;124m'\u001b[39m\u001b[38;5;124mpdb_id\u001b[39m\u001b[38;5;124m'\u001b[39m], best_structure[\u001b[38;5;124m'\u001b[39m\u001b[38;5;124mresolution\u001b[39m\u001b[38;5;124m'\u001b[39m]\n\u001b[1;32m     10\u001b[0m \u001b[38;5;28;01mreturn\u001b[39;00m \u001b[38;5;28;01mNone\u001b[39;00m, \u001b[38;5;28;01mNone\u001b[39;00m\n",
      "\u001b[0;31mTypeError\u001b[0m: '<' not supported between instances of 'NoneType' and 'float'"
     ]
    }
   ],
   "source": [
    "# Main function to process a list of UniProt IDs\n",
    "def download_structures(uniprot_ids, output_dir):\n",
    "    if not os.path.exists(output_dir):\n",
    "        os.makedirs(output_dir)\n",
    "    \n",
    "    for uniprot_id in tqdm(uniprot_ids, desc=\"Downloading structures\"):\n",
    "        pdb_id, resolution = get_best_pdb_id(uniprot_id)\n",
    "        if pdb_id:\n",
    "            print(f\"Downloading PDB {pdb_id} for UniProt ID {uniprot_id} (Resolution: {resolution} Å)\")\n",
    "            download_pdb(pdb_id, output_dir)\n",
    "        else:\n",
    "            print(f\"No structure found for UniProt ID {uniprot_id}\")\n",
    "\n",
    "if __name__ == \"__main__\":\n",
    "    # Example list of UniProt IDs\n",
    "    #output_dir = \"/Users/talgalper/OneDrive - RMIT University/PhD/structures/PDB_query/\" # MAC\n",
    "    output_dir = \"/home/ubuntu/Desktop/PDB_structures/\" # Ubuntu\n",
    "\n",
    "    download_structures(uniprot_ids, output_dir)"
   ]
  },
  {
   "cell_type": "code",
   "execution_count": null,
   "metadata": {},
   "outputs": [],
   "source": []
  }
 ],
 "metadata": {
  "kernelspec": {
   "display_name": "base",
   "language": "python",
   "name": "python3"
  },
  "language_info": {
   "codemirror_mode": {
    "name": "ipython",
    "version": 3
   },
   "file_extension": ".py",
   "mimetype": "text/x-python",
   "name": "python",
   "nbconvert_exporter": "python",
   "pygments_lexer": "ipython3",
   "version": "3.12.1"
  }
 },
 "nbformat": 4,
 "nbformat_minor": 2
}
