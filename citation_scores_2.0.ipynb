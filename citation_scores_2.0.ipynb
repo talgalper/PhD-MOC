{
 "cells": [
  {
   "cell_type": "code",
   "execution_count": 1,
   "metadata": {},
   "outputs": [],
   "source": [
    "import requests\n",
    "import pandas as pd\n",
    "import os\n",
    "import matplotlib.pyplot as plt\n",
    "import numpy as np\n",
    "from tqdm import tqdm"
   ]
  },
  {
   "cell_type": "code",
   "execution_count": 2,
   "metadata": {},
   "outputs": [],
   "source": [
    "# create function to query pubmed\n",
    "def get_citation_count(protein_id):\n",
    "    url = f\"https://eutils.ncbi.nlm.nih.gov/entrez/eutils/esearch.fcgi?db=pubmed&term={protein_id}&retmax=1&usehistory=y\"\n",
    "    response = requests.get(url)\n",
    "    \n",
    "    try:\n",
    "        count = int(response.text.split(\"<Count>\")[1].split(\"</Count>\")[0])\n",
    "        return count\n",
    "    except IndexError:\n",
    "        print(f\"Error: Unable to retrieve citation count for protein {protein_id}\")\n",
    "        print(\"Response:\", response.text)\n",
    "        return None"
   ]
  },
  {
   "cell_type": "code",
   "execution_count": 3,
   "metadata": {},
   "outputs": [
    {
     "data": {
      "text/plain": [
       "302"
      ]
     },
     "execution_count": 3,
     "metadata": {},
     "output_type": "execute_result"
    }
   ],
   "source": [
    "# read in data from RNA-seq pipeline\n",
    "protein_df = pd.read_csv(\"/Users/talgalper/Documents/GitHub/PhD-MOC/RNA-Seq_pipeline/latest/MOC/results/MOC_PCSF_drugability.csv\")\n",
    "protein_list = protein_df['external_gene_name'].tolist()\n",
    "protein_list = list(set(protein_list))\n",
    "len(protein_list)"
   ]
  },
  {
   "cell_type": "code",
   "execution_count": 1,
   "metadata": {},
   "outputs": [],
   "source": [
    "# select MeSh terms to filter search\n",
    "mesh_terms = [\"Neoplasms\"]"
   ]
  },
  {
   "cell_type": "code",
   "execution_count": 2,
   "metadata": {},
   "outputs": [
    {
     "name": "stdout",
     "output_type": "stream",
     "text": [
      "(Neoplasms[MH])\n"
     ]
    }
   ],
   "source": [
    "# Combine the MeSH terms into a single search query\n",
    "mesh_terms_with_mh = [term + \"[MH]\" for term in mesh_terms]\n",
    "mesh_query = \" OR \".join(mesh_terms_with_mh)\n",
    "full_query = '(' + mesh_query + ')'\n",
    "print(full_query)"
   ]
  },
  {
   "cell_type": "code",
   "execution_count": null,
   "metadata": {},
   "outputs": [],
   "source": [
    "# get counts\n",
    "results = pd.DataFrame(columns=['gene_id', 'base_count', 'cancer_count', 'MeSH_count', 'title_query', 'ovarian_count'])\n",
    "\n",
    "for protein in tqdm(protein_list):\n",
    "    # get base count for gene term\n",
    "    base_count = get_citation_count(protein)\n",
    "    \n",
    "    # get count with MeSH term(s)\n",
    "    MeSH_query_full = f\"{protein} AND Human[MH] AND {full_query}\"\n",
    "    MeSH_count = get_citation_count(MeSH_query_full)\n",
    "    \n",
    "    # get count with associated keyword: 'cancer'\n",
    "    cancer_query = f\"{protein} AND cancer\"\n",
    "    cancer_count = get_citation_count(cancer_query)\n",
    "    \n",
    "    # get count for ovarian cacner associated citations\n",
    "    ovarian_query = f\"{protein} AND cancer AND (ovary OR ovarian)\"\n",
    "    ovarian_count = get_citation_count(ovarian_query)\n",
    "\n",
    "    # search title only\n",
    "    title_query = f\"{protein}[Title] AND cancer\"\n",
    "    title_count = get_citation_count(title_query)\n",
    "    \n",
    "    results = pd.concat([results, pd.DataFrame({'gene_id': [protein], \n",
    "                                                'base_count': [base_count], \n",
    "                                                'MeSH_count': [MeSH_count],\n",
    "                                                'cancer_count': [cancer_count],\n",
    "                                                'title_count': [title_count],\n",
    "                                                'ovarian_count': [ovarian_count]})], ignore_index=True)\n"
   ]
  },
  {
   "cell_type": "code",
   "execution_count": null,
   "metadata": {},
   "outputs": [],
   "source": [
    "# function will check for missing values as a result of failed pubmed requests and re-run them\n",
    "def update_nan_values(df):\n",
    "    print(f\"Number of NaN values: {results.isna().sum().sum()}\")\n",
    "    for index, row in df.iterrows():\n",
    "        for col in df.columns:\n",
    "            if pd.isnull(row[col]):\n",
    "                protein = row['gene_id']\n",
    "\n",
    "                if col == 'MeSH_count':\n",
    "                    MeSH_query_full = f\"{protein} AND Human[MH] AND {full_query}\"\n",
    "                    new_value = get_citation_count(MeSH_query_full)\n",
    "                elif col == 'cancer_count':\n",
    "                    cancer_query = f\"{protein} AND cancer\"\n",
    "                    new_value = get_citation_count(cancer_query)\n",
    "                elif col == 'title_query':\n",
    "                    title_query = f\"{protein}[Title] AND cancer\"\n",
    "                    new_value = get_citation_count(title_query)\n",
    "                else:\n",
    "                    new_value = get_citation_count(protein)\n",
    "\n",
    "                df.at[index, col] = new_value\n",
    "    return df\n",
    "\n",
    "updated_results = update_nan_values(results)"
   ]
  },
  {
   "cell_type": "code",
   "execution_count": null,
   "metadata": {},
   "outputs": [],
   "source": [
    "# save results\n",
    "updated_results.to_csv(\"/Users/talgalper/Documents/GitHub/PhD-MOC/RNA-Seq_pipeline/latest/MOC/intermediate/citation_scores_3.0.csv\", index=False)"
   ]
  },
  {
   "cell_type": "code",
   "execution_count": null,
   "metadata": {},
   "outputs": [],
   "source": []
  }
 ],
 "metadata": {
  "kernelspec": {
   "display_name": "Python 3",
   "language": "python",
   "name": "python3"
  },
  "language_info": {
   "codemirror_mode": {
    "name": "ipython",
    "version": 3
   },
   "file_extension": ".py",
   "mimetype": "text/x-python",
   "name": "python",
   "nbconvert_exporter": "python",
   "pygments_lexer": "ipython3",
   "version": "3.11.3"
  }
 },
 "nbformat": 4,
 "nbformat_minor": 2
}
