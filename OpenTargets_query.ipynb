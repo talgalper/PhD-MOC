{
 "cells": [
  {
   "cell_type": "code",
   "execution_count": 1,
   "metadata": {},
   "outputs": [],
   "source": [
    "import requests\n",
    "import csv\n",
    "import json"
   ]
  },
  {
   "cell_type": "code",
   "execution_count": 2,
   "metadata": {},
   "outputs": [],
   "source": [
    "# output file location + filename\n",
    "out_file_dir = '/Users/talgalper/Desktop/breast_carcinoma_known_drugs.tsv'"
   ]
  },
  {
   "cell_type": "code",
   "execution_count": 3,
   "metadata": {},
   "outputs": [],
   "source": [
    "\n",
    "# Define the URL for the GraphQL API\n",
    "url = \"https://api.platform.opentargets.org/api/v4/graphql\""
   ]
  },
  {
   "cell_type": "code",
   "execution_count": 4,
   "metadata": {},
   "outputs": [],
   "source": [
    "\n",
    "# Define the GraphQL query to fetch known drugs for the disease \"MONDO_0007254\" (breast carcinoma)\n",
    "query = \"\"\"\n",
    "query KnownDrugsQuery(\n",
    "  $efoId: String!\n",
    "  $cursor: String\n",
    "  $freeTextQuery: String\n",
    "  $size: Int = 100\n",
    ") {\n",
    "  disease(efoId: $efoId) {\n",
    "    id\n",
    "    knownDrugs(cursor: $cursor, freeTextQuery: $freeTextQuery, size: $size) {\n",
    "      count\n",
    "      cursor\n",
    "      rows {\n",
    "        phase\n",
    "        status\n",
    "        urls {\n",
    "          name\n",
    "          url\n",
    "        }\n",
    "        disease {\n",
    "          id\n",
    "          name\n",
    "        }\n",
    "        drug {\n",
    "          id\n",
    "          name\n",
    "          mechanismsOfAction {\n",
    "            rows {\n",
    "              actionType\n",
    "              targets {\n",
    "                id\n",
    "              }\n",
    "            }\n",
    "          }\n",
    "        }\n",
    "        drugType\n",
    "        mechanismOfAction\n",
    "        target {\n",
    "          id\n",
    "          approvedName\n",
    "          approvedSymbol\n",
    "        }\n",
    "      }\n",
    "    }\n",
    "  }\n",
    "}\n",
    "\"\"\""
   ]
  },
  {
   "cell_type": "code",
   "execution_count": 5,
   "metadata": {},
   "outputs": [],
   "source": [
    "\n",
    "# Define the initial variables for the query\n",
    "variables = {\n",
    "  \"efoId\": \"MONDO_0007254\",\n",
    "  \"cursor\": None,\n",
    "  \"size\": 100  # Adjust size as needed, maximum depends on the API limit\n",
    "}"
   ]
  },
  {
   "cell_type": "code",
   "execution_count": 6,
   "metadata": {},
   "outputs": [],
   "source": [
    "\n",
    "# Function to send the request and get data\n",
    "def fetch_data(variables):\n",
    "    response = requests.post(url, json={'query': query, 'variables': variables})\n",
    "    response.raise_for_status()  # Raise an error for bad status codes\n",
    "    return response.json()\n",
    "\n",
    "# Initialize the list to hold all rows\n",
    "all_rows = []\n",
    "\n",
    "# Pagination loop\n",
    "while True:\n",
    "    data = fetch_data(variables)\n",
    "    \n",
    "    # Check if 'data' and 'disease' keys are in the response\n",
    "    if 'data' in data and 'disease' in data['data']:\n",
    "        known_drugs = data['data']['disease']['knownDrugs']\n",
    "        rows = known_drugs['rows']\n",
    "        all_rows.extend(rows)\n",
    "        \n",
    "        # Update the cursor for the next page\n",
    "        variables['cursor'] = known_drugs['cursor']\n",
    "        \n",
    "        # Break the loop if there's no more data to fetch\n",
    "        if not variables['cursor']:\n",
    "            break\n",
    "    else:\n",
    "        print(\"Error: Unexpected response structure\")\n",
    "        break\n",
    "\n",
    "# Define TSV columns\n",
    "columns = [\n",
    "    'Phase', 'Status', 'URL Name', 'URL', 'Disease ID', 'Disease Name',\n",
    "    'Drug ID', 'Drug Name', 'Mechanism of Action', 'Action Type', 'Target ID',\n",
    "    'Target Approved Name', 'Target Approved Symbol', 'Drug Type'\n",
    "]"
   ]
  },
  {
   "cell_type": "code",
   "execution_count": 7,
   "metadata": {},
   "outputs": [],
   "source": [
    "\n",
    "# Write to TSV\n",
    "with open(out_file_dir, 'w', newline='') as file:\n",
    "    writer = csv.writer(file, delimiter='\\t')\n",
    "    writer.writerow(columns)\n",
    "    for row in all_rows:\n",
    "        for moa in row['drug']['mechanismsOfAction']['rows']:\n",
    "            for target in moa['targets']:\n",
    "                writer.writerow([\n",
    "                    row['phase'],\n",
    "                    row['status'],\n",
    "                    row['urls'][0]['name'] if row['urls'] else '',\n",
    "                    row['urls'][0]['url'] if row['urls'] else '',\n",
    "                    row['disease']['id'],\n",
    "                    row['disease']['name'],\n",
    "                    row['drug']['id'],\n",
    "                    row['drug']['name'],\n",
    "                    row['mechanismOfAction'],\n",
    "                    moa['actionType'],\n",
    "                    target['id'],\n",
    "                    row['target']['approvedName'] if row['target'] else '',\n",
    "                    row['target']['approvedSymbol'] if row['target'] else '',\n",
    "                    row['drugType']\n",
    "                ])\n"
   ]
  },
  {
   "cell_type": "code",
   "execution_count": null,
   "metadata": {},
   "outputs": [],
   "source": []
  }
 ],
 "metadata": {
  "kernelspec": {
   "display_name": "base",
   "language": "python",
   "name": "python3"
  },
  "language_info": {
   "codemirror_mode": {
    "name": "ipython",
    "version": 3
   },
   "file_extension": ".py",
   "mimetype": "text/x-python",
   "name": "python",
   "nbconvert_exporter": "python",
   "pygments_lexer": "ipython3",
   "version": "3.8.8"
  }
 },
 "nbformat": 4,
 "nbformat_minor": 2
}
