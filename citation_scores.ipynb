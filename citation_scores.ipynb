{
 "cells": [
  {
   "cell_type": "code",
   "execution_count": 2,
   "metadata": {},
   "outputs": [],
   "source": [
    "import requests\n",
    "import pandas as pd\n",
    "import os\n",
    "import matplotlib.pyplot as plt\n",
    "import numpy as np\n",
    "from tqdm import tqdm"
   ]
  },
  {
   "cell_type": "code",
   "execution_count": null,
   "metadata": {},
   "outputs": [],
   "source": [
    "def get_citation_count(protein_id):\n",
    "    url = f\"https://eutils.ncbi.nlm.nih.gov/entrez/eutils/esearch.fcgi?db=pubmed&term={protein_id}&retmax=1&usehistory=y\"\n",
    "    response = requests.get(url)\n",
    "    \n",
    "    try:\n",
    "        count = int(response.text.split(\"<Count>\")[1].split(\"</Count>\")[0])\n",
    "        return count\n",
    "    except IndexError:\n",
    "        print(f\"Error: Unable to retrieve citation count for protein {protein_id}\")\n",
    "        print(\"Response:\", response.text)\n",
    "        return None"
   ]
  },
  {
   "cell_type": "code",
   "execution_count": 3,
   "metadata": {},
   "outputs": [
    {
     "data": {
      "text/plain": [
       "4743"
      ]
     },
     "execution_count": 3,
     "metadata": {},
     "output_type": "execute_result"
    }
   ],
   "source": [
    "protein_df = pd.read_csv(\"/Users/talgalper/Documents/GitHub/PhD-MOC/WGCNA/PCSF_results.csv\")\n",
    "protein_list = protein_df['external_gene_name'].tolist()\n",
    "protein_list = list(set(protein_list))\n",
    "len(protein_list)"
   ]
  },
  {
   "cell_type": "code",
   "execution_count": null,
   "metadata": {},
   "outputs": [],
   "source": []
  },
  {
   "cell_type": "code",
   "execution_count": null,
   "metadata": {},
   "outputs": [],
   "source": [
    "# Create an empty dataframe to store the results\n",
    "results = pd.DataFrame(columns=['gene_id', 'citation_score'])\n",
    "\n",
    "# Iterate over the list of proteins and retrieve the citation count for each\n",
    "for protein in tqdm(protein_list):\n",
    "    citation_count = get_citation_count(protein)\n",
    "    results = pd.concat([results, pd.DataFrame({'gene_id': [protein], 'citation_score': [citation_count]})], ignore_index=True)"
   ]
  },
  {
   "cell_type": "code",
   "execution_count": null,
   "metadata": {},
   "outputs": [],
   "source": []
  },
  {
   "cell_type": "code",
   "execution_count": null,
   "metadata": {},
   "outputs": [],
   "source": [
    "results.to_csv(\"/Users/talgalper/Documents/GitHub/PhD-MOC/WGCNA/citation_scores.csv\", index=False)"
   ]
  },
  {
   "cell_type": "code",
   "execution_count": null,
   "metadata": {},
   "outputs": [],
   "source": []
  }
 ],
 "metadata": {
  "kernelspec": {
   "display_name": "Python 3",
   "language": "python",
   "name": "python3"
  },
  "language_info": {
   "codemirror_mode": {
    "name": "ipython",
    "version": 3
   },
   "file_extension": ".py",
   "mimetype": "text/x-python",
   "name": "python",
   "nbconvert_exporter": "python",
   "pygments_lexer": "ipython3",
   "version": "3.11.3"
  },
  "orig_nbformat": 4
 },
 "nbformat": 4,
 "nbformat_minor": 2
}
