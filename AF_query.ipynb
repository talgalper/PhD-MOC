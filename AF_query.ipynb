{
 "cells": [
  {
   "cell_type": "code",
   "execution_count": null,
   "metadata": {},
   "outputs": [],
   "source": [
    "import requests\n",
    "import os\n",
    "from tqdm import tqdm\n",
    "import pandas as pd"
   ]
  },
  {
   "cell_type": "code",
   "execution_count": null,
   "metadata": {},
   "outputs": [],
   "source": [
    "\n",
    "# Define the list of gene names\n"
   ]
  },
  {
   "cell_type": "code",
   "execution_count": null,
   "metadata": {},
   "outputs": [],
   "source": [
    "\n",
    "# Define the output directory\n",
    "output_dir = \"alphafold_structures\"\n",
    "os.makedirs(output_dir, exist_ok=True)\n",
    "\n",
    "# Base URL for AlphaFold API\n",
    "base_url = \"https://alphafold.ebi.ac.uk/files/\""
   ]
  },
  {
   "cell_type": "code",
   "execution_count": null,
   "metadata": {},
   "outputs": [],
   "source": [
    "\n",
    "# Iterate through the list of gene names\n",
    "for gene in gene_names:\n",
    "    # Construct the URL for the AlphaFold prediction file (assuming human, with a Uniprot accession prefix of P)\n",
    "    url = f\"{base_url}AF-{gene}-F1-model_v2.pdb\"\n",
    "    \n",
    "    # Request the file from the AlphaFold database\n",
    "    response = requests.get(url)\n",
    "    \n",
    "    # Check if the request was successful\n",
    "    if response.status_code == 200:\n",
    "        # Save the file\n",
    "        file_path = os.path.join(output_dir, f\"{gene}_structure.pdb\")\n",
    "        with open(file_path, \"wb\") as file:\n",
    "            file.write(response.content)\n",
    "        print(f\"Downloaded and saved {gene} structure to {file_path}\")\n",
    "    else:\n",
    "        print(f\"Failed to download structure for {gene}, status code: {response.status_code}\")\n",
    "\n",
    "print(\"Finished downloading structures.\")\n"
   ]
  }
 ],
 "metadata": {
  "language_info": {
   "name": "python"
  }
 },
 "nbformat": 4,
 "nbformat_minor": 2
}
