{
 "cells": [
  {
   "cell_type": "code",
   "execution_count": null,
   "metadata": {},
   "outputs": [],
   "source": [
    "import requests\n",
    "import os\n",
    "from tqdm import tqdm\n",
    "import pandas as pd"
   ]
  },
  {
   "cell_type": "code",
   "execution_count": null,
   "metadata": {},
   "outputs": [],
   "source": [
    "\n",
    "# Define the list of protein names\n",
    "uniprot_human = pd.read_table(\"/home/ubuntu/Downloads/uniprotkb_proteome_UP000005640_2024_05_29.tsv\")\n",
    "uniprot_human.nunique()\n",
    "human_proteins = uniprot_human[\"Entry\"]"
   ]
  },
  {
   "cell_type": "code",
   "execution_count": null,
   "metadata": {},
   "outputs": [],
   "source": [
    "uniprot_human.info()"
   ]
  },
  {
   "cell_type": "code",
   "execution_count": null,
   "metadata": {},
   "outputs": [],
   "source": [
    "os.getcwd()"
   ]
  },
  {
   "cell_type": "code",
   "execution_count": null,
   "metadata": {},
   "outputs": [],
   "source": [
    "\n",
    "# Define the output directory\n",
    "output_dir = \"/home/ubuntu/Desktop/AF_query_structures\"\n",
    "os.makedirs(output_dir, exist_ok=True)"
   ]
  },
  {
   "cell_type": "code",
   "execution_count": null,
   "metadata": {},
   "outputs": [],
   "source": [
    "# Base URL for AlphaFold API\n",
    "base_url = \"https://alphafold.ebi.ac.uk/files/AF-\""
   ]
  },
  {
   "cell_type": "code",
   "execution_count": 22,
   "metadata": {},
   "outputs": [
    {
     "name": "stderr",
     "output_type": "stream",
     "text": [
      "100%|██████████| 82493/82493 [14:16:29<00:00,  1.61it/s]  "
     ]
    },
    {
     "name": "stdout",
     "output_type": "stream",
     "text": [
      "Finished downloading structures.\n"
     ]
    },
    {
     "name": "stderr",
     "output_type": "stream",
     "text": [
      "\n"
     ]
    }
   ],
   "source": [
    "\n",
    "# Create a log file for messages\n",
    "log_file_path = os.path.join(\"/home/ubuntu/Desktop\", \"download_log.txt\")\n",
    "\n",
    "with open(log_file_path, \"w\") as log_file:\n",
    "    # Iterate through the dictionary of protein names and UniProt IDs\n",
    "    for protein in tqdm(human_proteins):\n",
    "        # Construct the URL for the AlphaFold prediction file\n",
    "        url = f\"a{base_url}{protein}-F1-model_v4.pdb\"\n",
    "        \n",
    "        # Request the file from the AlphaFold database\n",
    "        response = requests.get(url)\n",
    "        \n",
    "        # Check if the request was successful\n",
    "        if response.status_code == 200:\n",
    "            # Save the file\n",
    "            file_path = os.path.join(output_dir, f\"{protein}_structure.pdb\")\n",
    "            with open(file_path, \"wb\") as file:\n",
    "                file.write(response.content)\n",
    "        elif response.status_code == 404:\n",
    "            msg = f\"No structure available for human {protein}\"\n",
    "            log_file.write(msg + \"\\n\")\n",
    "        else:\n",
    "            msg = f\"Failed to download structure for {protein}, status code: {response.status_code}\"\n",
    "            log_file.write(msg + \"\\n\")\n",
    "\n",
    "print(\"Finished downloading structures.\")\n"
   ]
  },
  {
   "cell_type": "code",
   "execution_count": 24,
   "metadata": {},
   "outputs": [
    {
     "name": "stdout",
     "output_type": "stream",
     "text": [
      "63936\n",
      "3093\n"
     ]
    }
   ],
   "source": [
    "# read in files\n",
    "passed_structures = pd.read_csv(\"/home/ubuntu/Desktop/results/af_struct_score.csv\")\n",
    "failed_structures = pd.read_csv(\"/home/ubuntu/Desktop/results/af_low_conf_struct.csv\")\n",
    "\n",
    "# print number of structures\n",
    "print(len(passed_structures))\n",
    "print(len(failed_structures))\n"
   ]
  },
  {
   "cell_type": "code",
   "execution_count": null,
   "metadata": {},
   "outputs": [],
   "source": []
  }
 ],
 "metadata": {
  "kernelspec": {
   "display_name": "base",
   "language": "python",
   "name": "python3"
  },
  "language_info": {
   "codemirror_mode": {
    "name": "ipython",
    "version": 3
   },
   "file_extension": ".py",
   "mimetype": "text/x-python",
   "name": "python",
   "nbconvert_exporter": "python",
   "pygments_lexer": "ipython3",
   "version": "3.12.1"
  }
 },
 "nbformat": 4,
 "nbformat_minor": 2
}
