{
 "cells": [
  {
   "cell_type": "code",
   "execution_count": null,
   "metadata": {},
   "outputs": [],
   "source": [
    "import tensorflow as tf\n",
    "from models import MQAModel\n",
    "import numpy as np\n",
    "from glob import glob\n",
    "import mdtraj as md\n",
    "import os\n",
    "from tqdm import tqdm\n",
    "\n",
    "from validate_performance_on_xtals import process_strucs, predict_on_xtals\n",
    "\n",
    "def make_predictions(pdb_paths, model, nn_path, debug=False, output_basename=None):\n",
    "    '''\n",
    "        pdb_paths : list of pdb paths\n",
    "        model : MQAModel corresponding to network in nn_path\n",
    "        nn_path : path to checkpoint files\n",
    "    '''\n",
    "    strucs = [md.load(s) for s in pdb_paths]\n",
    "    X, S, mask = process_strucs(strucs)\n",
    "    if debug:\n",
    "        np.save(f'{output_basename}_X.npy', X)\n",
    "        np.save(f'{output_basename}_S.npy', S)\n",
    "        np.save(f'{output_basename}_mask.npy', mask)\n",
    "    predictions = predict_on_xtals(model, nn_path, X, S, mask)\n",
    "    return predictions"
   ]
  },
  {
   "cell_type": "code",
   "execution_count": null,
   "metadata": {},
   "outputs": [],
   "source": [
    "# get list of files to be run from structures directory\n",
    "structure_list = os.listdir(\"../structures/\")\n",
    "len(structure_list)"
   ]
  },
  {
   "cell_type": "code",
   "execution_count": null,
   "metadata": {},
   "outputs": [],
   "source": [
    "# loop pocketminer over all files in the structures directory. Uses tqdm to track progress\n",
    "# output saved after each iteration to results directory\n",
    "for structure in tqdm(structure_list):\n",
    "    # main method\n",
    "    if __name__ == '__main__':\n",
    "        # TO DO - provide input pdb(s), output name, and output folder\n",
    "        strucs = [\n",
    "            f'../structures/{structure}']\n",
    "        \n",
    "        name_split = structure.split(\"-\")\n",
    "        output_name = name_split[1]\n",
    "        \n",
    "        output_folder = '../results/'\n",
    "\n",
    "        # debugging mode can be turned on to output protein features and sequence\n",
    "        debug = False\n",
    "\n",
    "        # Load MQA Model used for selected NN network\n",
    "        nn_path = \"../models/pocketminer.index\"\n",
    "        DROPOUT_RATE = 0.1\n",
    "        NUM_LAYERS = 4\n",
    "        HIDDEN_DIM = 100\n",
    "        model = MQAModel(node_features=(8, 50), edge_features=(1, 32),\n",
    "                         hidden_dim=(16, HIDDEN_DIM),\n",
    "                         num_layers=NUM_LAYERS, dropout=DROPOUT_RATE)\n",
    "\n",
    "\n",
    "        if debug:\n",
    "            output_basename = f'{output_folder}/{output_name}'\n",
    "            predictions = make_predictions(strucs, model, nn_path, debug=True, output_basename=output_basename)\n",
    "        else:\n",
    "            predictions = make_predictions(strucs, model, nn_path)\n",
    "\n",
    "        # output filename can be modified here\n",
    "        np.save(f'{output_folder}/{output_name}-preds.npy', predictions)\n",
    "        np.savetxt(os.path.join(output_folder,f'{output_name}-predictions.txt'), predictions, fmt='%.4g', delimiter='\\n')\n"
   ]
  },
  {
   "cell_type": "code",
   "execution_count": null,
   "metadata": {},
   "outputs": [],
   "source": []
  }
 ],
 "metadata": {
  "kernelspec": {
   "display_name": "pocketminer",
   "language": "python",
   "name": "python3"
  },
  "language_info": {
   "codemirror_mode": {
    "name": "ipython",
    "version": 3
   },
   "file_extension": ".py",
   "mimetype": "text/x-python",
   "name": "python",
   "nbconvert_exporter": "python",
   "pygments_lexer": "ipython3",
   "version": "3.11.6"
  }
 },
 "nbformat": 4,
 "nbformat_minor": 2
}
