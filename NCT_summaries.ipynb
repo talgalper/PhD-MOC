{
 "cells": [
  {
   "cell_type": "code",
   "execution_count": null,
   "metadata": {},
   "outputs": [],
   "source": [
    "import pandas as pd\n",
    "import requests\n",
    "from tqdm import tqdm"
   ]
  },
  {
   "cell_type": "code",
   "execution_count": null,
   "metadata": {},
   "outputs": [],
   "source": [
    "\n",
    "OpenTargets = pd.read_csv(\"/Users/talgalper/Desktop/OpenTargets_unique_drug.csv\")\n",
    "len(OpenTargets)\n"
   ]
  },
  {
   "cell_type": "code",
   "execution_count": null,
   "metadata": {},
   "outputs": [],
   "source": [
    "# extract NCT IDs from URL\n",
    "def extract_nct_id(url):\n",
    "    parts = url.split('/')\n",
    "    for part in parts:\n",
    "        if part.startswith('NCT'):\n",
    "            return part\n",
    "    return None\n",
    "\n",
    "NCT_IDs = OpenTargets['URL'].apply(extract_nct_id)\n",
    "# remove NA/missing values\n",
    "NCT_IDs = NCT_IDs.dropna()\n",
    "len(NCT_IDs)"
   ]
  },
  {
   "cell_type": "code",
   "execution_count": null,
   "metadata": {},
   "outputs": [],
   "source": [
    "import pandas as pd\n",
    "nct_ids = []\n",
    "brief_summaries = []\n",
    "\n",
    "# Loop over each NCT ID and fetch the brief summary\n",
    "for nct_id in tqdm(NCT_IDs):\n",
    "    url = f\"https://clinicaltrials.gov/api/v2/studies/{nct_id}?format=json&fields=BriefSummary\"\n",
    "    headers = {\"accept\": \"application/json\"}\n",
    "    response = requests.get(url, headers=headers)\n",
    "    \n",
    "    if response.status_code == 200:\n",
    "        data = response.json()\n",
    "        if 'protocolSection' in data and 'descriptionModule' in data['protocolSection'] and 'briefSummary' in data['protocolSection']['descriptionModule']:\n",
    "            brief_summary = data['protocolSection']['descriptionModule']['briefSummary']\n",
    "        else:\n",
    "            brief_summary = \"No summary available\"\n",
    "    else:\n",
    "        brief_summary = f\"Error: {response.status_code}\"\n",
    "    \n",
    "    nct_ids.append(nct_id)\n",
    "    brief_summaries.append(brief_summary)"
   ]
  },
  {
   "cell_type": "code",
   "execution_count": null,
   "metadata": {},
   "outputs": [],
   "source": [
    "summary_df = pd.DataFrame({'NCT ID': nct_ids, 'Brief Summary': brief_summaries})"
   ]
  },
  {
   "cell_type": "code",
   "execution_count": null,
   "metadata": {},
   "outputs": [],
   "source": [
    "summary_df.to_csv(\"/Users/talgalper/Desktop/NCT_summaries.csv\", index=False)"
   ]
  },
  {
   "cell_type": "code",
   "execution_count": null,
   "metadata": {},
   "outputs": [],
   "source": []
  },
  {
   "cell_type": "code",
   "execution_count": null,
   "metadata": {},
   "outputs": [],
   "source": []
  }
 ],
 "metadata": {
  "kernelspec": {
   "display_name": "Python 3",
   "language": "python",
   "name": "python3"
  },
  "language_info": {
   "codemirror_mode": {
    "name": "ipython",
    "version": 3
   },
   "file_extension": ".py",
   "mimetype": "text/x-python",
   "name": "python",
   "nbconvert_exporter": "python",
   "pygments_lexer": "ipython3",
   "version": "3.8.8"
  }
 },
 "nbformat": 4,
 "nbformat_minor": 2
}
